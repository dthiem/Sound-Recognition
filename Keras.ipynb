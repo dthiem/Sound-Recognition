{
 "cells": [
  {
   "cell_type": "code",
   "execution_count": 1,
   "metadata": {
    "collapsed": true
   },
   "outputs": [],
   "source": [
    "import glob\n",
    "import os\n",
    "import librosa\n",
    "import numpy as np\n",
    "import matplotlib.pyplot as plt\n",
    "import soundfile as sf\n",
    "from matplotlib.pyplot import specgram\n",
    "import math\n",
    "from random import shuffle\n",
    "%matplotlib inline\n",
    "plt.style.use('ggplot')\n",
    "\n",
    "plt.rcParams['font.family'] = 'serif'\n",
    "plt.rcParams['font.serif'] = 'Ubuntu'\n",
    "plt.rcParams['font.monospace'] = 'Ubuntu Mono'\n",
    "plt.rcParams['font.size'] = 12\n",
    "plt.rcParams['axes.labelsize'] = 11\n",
    "plt.rcParams['axes.labelweight'] = 'bold'\n",
    "plt.rcParams['axes.titlesize'] = 14\n",
    "plt.rcParams['xtick.labelsize'] = 10\n",
    "plt.rcParams['ytick.labelsize'] = 10\n",
    "plt.rcParams['legend.fontsize'] = 11\n",
    "plt.rcParams['figure.titlesize'] = 13"
   ]
  },
  {
   "cell_type": "code",
   "execution_count": 2,
   "metadata": {
    "collapsed": true
   },
   "outputs": [],
   "source": [
    "def appendSounds(data,labels,fp):\n",
    "    X, sr = sf.read(fp)\n",
    "    sound = np.array(X)\n",
    "    # librosa operates on (lenght, channels) matrices, wheras soundfile gave us (channels, lenght) \n",
    "    # so we transpose\n",
    "    sound = np.transpose(sound)\n",
    "    sound = librosa.core.to_mono(sound)\n",
    "    # resample so every wave has same sampling rate\n",
    "    sound = librosa.core.resample(sound, sr, 10000)\n",
    "    # set class number\n",
    "    classNumber = int(fp.split(\"/\")[1].split(\"-\")[1])\n",
    "    # compute and set mel spectrogram\n",
    "    mel = librosa.feature.melspectrogram(sound, sr=10000,n_mels=64, hop_length=506)\n",
    "    iterator, sliceSize = 0,10\n",
    "    while iterator+10<=mel.shape[1]:\n",
    "        data.append(mel[:,iterator:iterator+8].flatten())\n",
    "        labels.append(classNumber)\n",
    "        iterator+=8"
   ]
  },
  {
   "cell_type": "code",
   "execution_count": 3,
   "metadata": {
    "collapsed": false
   },
   "outputs": [
    {
     "name": "stderr",
     "output_type": "stream",
     "text": [
      "Using TensorFlow backend.\n"
     ]
    },
    {
     "name": "stdout",
     "output_type": "stream",
     "text": [
      "I'm done, time was: 651.083497047\n"
     ]
    }
   ],
   "source": [
    "from multiprocessing import Process, Lock, Pipe,Event\n",
    "import time\n",
    "from keras import utils\n",
    "\n",
    "\n",
    "\n",
    "trainData,trainLabels= [],[]\n",
    "tuneData,tuneLabels=[],[]\n",
    "testData,testLabels=[],[]\n",
    "def add(x,c):\n",
    "    tempdata,templabels = [],[]\n",
    "    for file in glob.glob(x):\n",
    "        appendSounds(tempdata, templabels, file)\n",
    "    c.send(zip(tempdata, templabels))\n",
    "    del tempdata,templabels\n",
    "        \n",
    "ts = time.time()\n",
    "\n",
    "if __name__ == '__main__':\n",
    "    threads= []\n",
    "    connections=[0]*10\n",
    "    lock = Lock()\n",
    "    for x in xrange(1,11):\n",
    "        connections[x-1], childPipe=Pipe()\n",
    "        threads.append(Process(target=add, args=(\"fold\"+str(x)+\"/*.wav\",childPipe)))         \n",
    "        threads[x-1].start()\n",
    "    fold = 1\n",
    "    for x,y in zip(threads,connections):\n",
    "        tD, tL = zip(*y.recv())\n",
    "        if fold <= 6:\n",
    "            trainData += tD\n",
    "            trainLabels += tL\n",
    "        elif fold <= 8 :\n",
    "            tuneData += tD\n",
    "            tuneLabels += tL\n",
    "        else:\n",
    "            testData += tD\n",
    "            testLabels += tL\n",
    "        fold+=1\n",
    "    \n",
    "    trainData, trainLabels = np.array(trainData), np.array(utils.to_categorical(trainLabels, num_classes=10))\n",
    "    tuneData, tuneLabels = np.array(tuneData), np.array(utils.to_categorical(tuneLabels, num_classes=10))\n",
    "    testData, testLabels = np.array(testData), np.array(utils.to_categorical(testLabels, num_classes=10))\n",
    "    \n",
    "    print \"I'm done, time was:\" , time.time()-ts"
   ]
  },
  {
   "cell_type": "code",
   "execution_count": 69,
   "metadata": {
    "collapsed": false,
    "scrolled": true
   },
   "outputs": [
    {
     "name": "stdout",
     "output_type": "stream",
     "text": [
      "13466/13466 [==============================] - 2s\n",
      "43690/43690 [==============================] - 0s     \b\b\b\b\b\b\b\b\b\b\b\b\b\b\b\b\b\b\b\b\b\b\b\b\b\b\b\b\b\b\b\b\b\b\b\b\b\b\b\b\b\b\b\b\b\b\b\b\b\b\b\b\b\b\b\b\b\b\b\b\b\b\b\b\b\b\b\b\b\b\b\b\b\b\b\b\b\b\b\b\b\b\b\b\b\b\b\b\b\b\b\b\b\b\b\b\b\b\b\b\b\b\b\b\b\b\b\b\n",
      "Tune score: 0.516 Train score: 0.762 Learning rate: 0.003800 L2 reg: 0.002070\n"
     ]
    }
   ],
   "source": [
    "from keras.models import Sequential\n",
    "from keras.layers import Dense, Dropout, Activation\n",
    "from keras.optimizers import SGD\n",
    "from keras import regularizers\n",
    "from random import uniform\n",
    "from math import pow\n",
    "rates2 = []\n",
    "\n",
    "LR,L2= 0.0038,0.00207\n",
    "net = Sequential()\n",
    "net.add(Dense(320, activation='relu', input_dim=512,\n",
    "             kernel_regularizer=regularizers.l2(L2)))\n",
    "net.add(Dropout(0.5))\n",
    "net.add(Dense(120, activation='relu',\n",
    "             kernel_regularizer=regularizers.l2(L2)))\n",
    "net.add(Dropout(0.3))\n",
    "net.add(Dense(60, activation='relu',\n",
    "             kernel_regularizer=regularizers.l2(L2)))\n",
    "net.add(Dropout(0.1))\n",
    "net.add(Dense(10, activation='softmax'))\n",
    "net.compile(loss='categorical_crossentropy',\n",
    "           optimizer = SGD(lr=LR,decay=1e-6, momentum=0.9,nesterov=True),\n",
    "           metrics = ['accuracy'])\n",
    "\n",
    "net.fit(np.concatenate((trainData,tuneData),axis=0),np.concatenate((trainLabels,tuneLabels),axis=0),\n",
    "        epochs = 200, batch_size=128, verbose=0)\n",
    "rates2.append([net.evaluate(testData,testLabels, batch_size=16384)[1],\n",
    "             net.evaluate(trainData,trainLabels, batch_size=16384)[1],\n",
    "             LR,L2])\n",
    "print (\"Tune score: %.3f Train score: %.3f Learning rate: %f L2 reg: %f\" %(rates2[-1][0],rates2[-1][1],LR, L2))"
   ]
  },
  {
   "cell_type": "code",
   "execution_count": 5,
   "metadata": {
    "collapsed": false
   },
   "outputs": [
    {
     "name": "stdout",
     "output_type": "stream",
     "text": [
      "(43690, 64, 8, 1) (13334, 64, 8, 1)\n"
     ]
    }
   ],
   "source": [
    "trainData=np.reshape(trainData,(trainData.shape[0],64,8))\n",
    "tuneData=np.reshape(tuneData,(tuneData.shape[0],64,8))\n",
    "trainData=np.expand_dims(trainData,axis=3)\n",
    "tuneData=np.expand_dims(tuneData,axis=3)\n",
    "print trainData.shape, tuneData.shape"
   ]
  },
  {
   "cell_type": "code",
   "execution_count": 12,
   "metadata": {
    "collapsed": false
   },
   "outputs": [
    {
     "data": {
      "text/plain": [
       "(13466, 64, 8, 1)"
      ]
     },
     "execution_count": 12,
     "metadata": {},
     "output_type": "execute_result"
    }
   ],
   "source": [
    "testData=np.reshape(testData,(testData.shape[0],64,8))\n",
    "testData=np.expand_dims(testData,axis=3)\n",
    "testData.shape"
   ]
  },
  {
   "cell_type": "code",
   "execution_count": 20,
   "metadata": {
    "collapsed": false
   },
   "outputs": [
    {
     "name": "stdout",
     "output_type": "stream",
     "text": [
      "Epoch 1/10\n",
      "165s - loss: 1.7819 - acc: 0.3937\n",
      "Epoch 2/10\n",
      "164s - loss: 1.3871 - acc: 0.5199\n",
      "Epoch 3/10\n",
      "164s - loss: 1.2233 - acc: 0.5806\n",
      "Epoch 4/10\n",
      "164s - loss: 1.1106 - acc: 0.6227\n",
      "Epoch 5/10\n",
      "164s - loss: 1.0247 - acc: 0.6562\n",
      "Epoch 6/10\n",
      "165s - loss: 0.9680 - acc: 0.6765\n",
      "Epoch 7/10\n",
      "164s - loss: 0.9166 - acc: 0.6922\n",
      "Epoch 8/10\n",
      "164s - loss: 0.8800 - acc: 0.7044\n",
      "Epoch 9/10\n",
      "164s - loss: 0.8401 - acc: 0.7149\n",
      "Epoch 10/10\n",
      "164s - loss: 0.8177 - acc: 0.7252\n"
     ]
    },
    {
     "data": {
      "text/plain": [
       "[2.0316865287978989, 0.43115995841378285]"
      ]
     },
     "execution_count": 20,
     "metadata": {},
     "output_type": "execute_result"
    }
   ],
   "source": [
    "from keras.models import Sequential\n",
    "from keras.layers import Dense, Dropout, Flatten\n",
    "from keras.layers import Conv2D, MaxPooling2D,ZeroPadding2D,BatchNormalization\n",
    "from keras.optimizers import SGD\n",
    "\n",
    "model = Sequential()\n",
    "model.add(ZeroPadding2D(padding = (1,1), input_shape=(64, 8, 1)))\n",
    "model.add(Conv2D(32, (3, 3), activation='relu'))\n",
    "model.add(BatchNormalization())\n",
    "model.add(ZeroPadding2D(padding = (1,1)))\n",
    "model.add(Conv2D(32, (3, 3), activation='relu'))\n",
    "model.add(BatchNormalization())\n",
    "model.add(MaxPooling2D(pool_size=(2, 2)))\n",
    "model.add(Dropout(0.7))\n",
    "\n",
    "model.add(ZeroPadding2D(padding = (1,1)))\n",
    "model.add(Conv2D(16, (3, 3), activation='relu'))\n",
    "model.add(BatchNormalization())\n",
    "\n",
    "model.add(Flatten())\n",
    "model.add(Dense(256, activation='relu'))\n",
    "model.add(Dropout(0.7))\n",
    "model.add(Dense(10, activation='softmax'))\n",
    "\n",
    "sgd = SGD(lr=0.01, decay=1e-6, momentum=0.9, nesterov=True)\n",
    "model.compile(loss='categorical_crossentropy', optimizer=sgd, metrics = ['accuracy'])\n",
    "\n",
    "model.fit(np.concatenate((trainData,tuneData),axis=0), np.concatenate((trainLabels,tuneLabels),axis=0),\n",
    "          batch_size=128, epochs=10,verbose=2)\n",
    "model.evaluate(testData,testLabels, batch_size=64,verbose=2)"
   ]
  },
  {
   "cell_type": "code",
   "execution_count": 7,
   "metadata": {
    "collapsed": false
   },
   "outputs": [
    {
     "data": {
      "text/plain": [
       "1.8880208947968051"
      ]
     },
     "execution_count": 7,
     "metadata": {},
     "output_type": "execute_result"
    }
   ],
   "source": [
    "model.evaluate(tuneData,tuneLabels, batch_size=8,verbose=2)"
   ]
  },
  {
   "cell_type": "code",
   "execution_count": 43,
   "metadata": {
    "collapsed": false,
    "scrolled": true
   },
   "outputs": [
    {
     "data": {
      "image/png": "[encoded data removed]",
      "text/plain": [
       "<matplotlib.figure.Figure at 0x7f3599b7eed0>"
      ]
     },
     "metadata": {},
     "output_type": "display_data"
    }
   ],
   "source": [
    "plt.plot(rates[:,2],rates[:,0],'ro')\n",
    "plt.axis([0.001,0.01,0.35,0.5])\n",
    "plt.show()\n",
    "#128 batch - f(learning_Rate)=score"
   ]
  },
  {
   "cell_type": "code",
   "execution_count": 50,
   "metadata": {
    "collapsed": false
   },
   "outputs": [
    {
     "data": {
      "image/png": "[encoded data removed]",
      "text/plain": [
       "<matplotlib.figure.Figure at 0x7f352f5d63d0>"
      ]
     },
     "metadata": {},
     "output_type": "display_data"
    }
   ],
   "source": [
    "plt.plot(rates1[:,3],rates1[:,0],'ro')\n",
    "plt.axis([0.0001,0.01,0.4,0.5])\n",
    "plt.show()\n",
    "#128 batch - f(L2 lambda)=score, lr=0.0038"
   ]
  },
  {
   "cell_type": "code",
   "execution_count": 67,
   "metadata": {
    "collapsed": false
   },
   "outputs": [
    {
     "data": {
      "text/plain": [
       "array([[ 0.46332684,  0.64337377,  0.00340095,  0.00615   ],\n",
       "       [ 0.39223039,  0.58867017,  0.00883593,  0.00615   ],\n",
       "       [ 0.46700165,  0.63909361,  0.00624703,  0.00615   ],\n",
       "       [ 0.420279  ,  0.57713435,  0.00132861,  0.00615   ],\n",
       "       [ 0.45815209,  0.63666742,  0.00277255,  0.00615   ],\n",
       "       [ 0.44697765,  0.59986267,  0.00184628,  0.00615   ],\n",
       "       [ 0.43692815,  0.62783246,  0.00236223,  0.00615   ],\n",
       "       [ 0.40910456,  0.54048981,  0.00111271,  0.00615   ],\n",
       "       [ 0.48005101,  0.62009614,  0.00255855,  0.00615   ],\n",
       "       [ 0.4460777 ,  0.63117418,  0.00535054,  0.00615   ],\n",
       "       [ 0.43947804,  0.60407416,  0.00167252,  0.00615   ],\n",
       "       [ 0.45350233,  0.64344243,  0.00349331,  0.00615   ],\n",
       "       [ 0.43602821,  0.62451363,  0.00722168,  0.00615   ],\n",
       "       [ 0.44465277,  0.6237583 ,  0.00562414,  0.00615   ],\n",
       "       [ 0.42875355,  0.58432136,  0.00168327,  0.00615   ],\n",
       "       [ 0.41180441,  0.50856031,  0.00125626,  0.00615   ],\n",
       "       [ 0.45747712,  0.62954909,  0.00642511,  0.00615   ],\n",
       "       [ 0.42560372,  0.62755779,  0.00267207,  0.00615   ],\n",
       "       [ 0.4418779 ,  0.6171664 ,  0.00657686,  0.00615   ],\n",
       "       [ 0.46700165,  0.65490959,  0.00545822,  0.00615   ],\n",
       "       [ 0.48312584,  0.64007782,  0.00394041,  0.00615   ],\n",
       "       [ 0.45117745,  0.61677729,  0.00297424,  0.00615   ],\n",
       "       [ 0.39815509,  0.59462119,  0.00278854,  0.00615   ],\n",
       "       [ 0.4441278 ,  0.55951018,  0.00126063,  0.00615   ],\n",
       "       [ 0.45170242,  0.60755322,  0.00189677,  0.00615   ],\n",
       "       [ 0.45605218,  0.60613412,  0.00174241,  0.00615   ],\n",
       "       [ 0.44360283,  0.63563744,  0.00333396,  0.00615   ],\n",
       "       [ 0.44450277,  0.61112383,  0.0020151 ,  0.00615   ],\n",
       "       [ 0.43467826,  0.56669718,  0.00937259,  0.00615   ],\n",
       "       [ 0.46085197,  0.62300298,  0.00383169,  0.00615   ]])"
      ]
     },
     "execution_count": 67,
     "metadata": {},
     "output_type": "execute_result"
    }
   ],
   "source": [
    "rates"
   ]
  },
  {
   "cell_type": "code",
   "execution_count": 23,
   "metadata": {
    "collapsed": false
   },
   "outputs": [
    {
     "name": "stdout",
     "output_type": "stream",
     "text": [
      "-2.32882498905\n"
     ]
    }
   ],
   "source": [
    "mean = 0\n",
    "for x in trainData:\n",
    "    mean+=np.mean(x)\n",
    "mean/=len(trainData)\n",
    "for i in xrange (len(trainData)):\n",
    "    trainData[i]-=mean\n",
    "for i in xrange (len(testData)):\n",
    "    testData[i]-=mean\n",
    "print np.mean(testData[767])"
   ]
  },
  {
   "cell_type": "code",
   "execution_count": 69,
   "metadata": {
    "collapsed": false
   },
   "outputs": [
    {
     "name": "stdout",
     "output_type": "stream",
     "text": [
      "[2.0773913470494461, 0.4402383750109779]\n"
     ]
    }
   ],
   "source": [
    "print score"
   ]
  }
 ],
 "metadata": {
  "kernelspec": {
   "display_name": "Python 2",
   "language": "python",
   "name": "python2"
  },
  "language_info": {
   "codemirror_mode": {
    "name": "ipython",
    "version": 2
   },
   "file_extension": ".py",
   "mimetype": "text/x-python",
   "name": "python",
   "nbconvert_exporter": "python",
   "pygments_lexer": "ipython2",
   "version": "2.7.12"
  }
 },
 "nbformat": 4,
 "nbformat_minor": 2
}
