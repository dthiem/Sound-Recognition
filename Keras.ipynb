{
 "cells": [
  {
   "cell_type": "code",
   "execution_count": 1,
   "metadata": {
    "collapsed": true
   },
   "outputs": [],
   "source": [
    "import glob\n",
    "import os\n",
    "import librosa\n",
    "import numpy as np\n",
    "import matplotlib.pyplot as plt\n",
    "import soundfile as sf\n",
    "from matplotlib.pyplot import specgram\n",
    "import math\n",
    "from random import shuffle"
   ]
  },
  {
   "cell_type": "markdown",
   "metadata": {
    "collapsed": true
   },
   "source": [
    "TODO:\n",
    "\n",
    "HDF5\n",
    "RCNN"
   ]
  },
  {
   "cell_type": "code",
   "execution_count": 13,
   "metadata": {
    "collapsed": false
   },
   "outputs": [],
   "source": [
    "#hop 10ms, window 40\n",
    "def appendSounds(data,labels,fp):\n",
    "    X, sr = sf.read(fp)\n",
    "    sound = np.array(X)\n",
    "    # librosa operates on (lenght, channels) matrices, wheras soundfile gave us (channels, lenght) \n",
    "    # so we transpose\n",
    "    sound = np.transpose(sound)\n",
    "    sound = librosa.core.to_mono(sound)\n",
    "    # resample so every wave has same sampling rate\n",
    "    sound = librosa.core.resample(sound, sr, 10000)\n",
    "    # set class number\n",
    "    classNumber = int(fp.split(\"/\")[1].split(\"-\")[1])\n",
    "    # compute and set mel spectrogram\n",
    "    D = np.abs(librosa.stft(sound, hop_length=506,  win_length=1024))**2\n",
    "    mel = librosa.logamplitude(librosa.feature.melspectrogram(S=D, sr=10000, n_mels = 64),ref_power= np.max)\n",
    "    iterator = 0\n",
    "    while iterator+16<=mel.shape[1]:\n",
    "        data.append(mel[:,iterator:iterator+16].flatten())\n",
    "        labels.append(classNumber)\n",
    "        iterator+=16"
   ]
  },
  {
   "cell_type": "code",
   "execution_count": 14,
   "metadata": {
    "collapsed": true
   },
   "outputs": [],
   "source": [
    "#hop 10ms, window 40\n",
    "def appendTracks(data,labels,fp):\n",
    "    X, sr = sf.read(fp)\n",
    "    sound = np.array(X)\n",
    "    # librosa operates on (lenght, channels) matrices, wheras soundfile gave us (channels, lenght) \n",
    "    # so we transpose\n",
    "    sound = np.transpose(sound)\n",
    "    sound = librosa.core.to_mono(sound)\n",
    "    # resample so every wave has same sampling rate\n",
    "    sound = librosa.core.resample(sound, sr, 10000)\n",
    "    # set class number\n",
    "    classNumber = int(fp.split(\"/\")[1].split(\"-\")[1])\n",
    "    # compute and set mel spectrogram\n",
    "    D = np.abs(librosa.stft(sound, hop_length=506,  win_length=1024))**2\n",
    "    mel = librosa.logamplitude(librosa.feature.melspectrogram(S=D, sr=10000, n_mels = 64),ref_power= np.max)\n",
    "    data.append(mel)\n",
    "    labels.append(classNumber)"
   ]
  },
  {
   "cell_type": "code",
   "execution_count": 15,
   "metadata": {
    "collapsed": false
   },
   "outputs": [
    {
     "name": "stdout",
     "output_type": "stream",
     "text": [
      "I'm done, time was: 513.53489995\n"
     ]
    }
   ],
   "source": [
    "from multiprocessing import Process, Lock, Pipe,Event\n",
    "import time\n",
    "from keras import utils\n",
    "\n",
    "\n",
    "allData,allLabels=[],[]\n",
    "trainData,trainLabels= [],[]\n",
    "tuneData,tuneLabels=[],[]\n",
    "testData,testLabels=[],[]\n",
    "#function to extract data using multiprocessing\n",
    "def add(x,c):\n",
    "    tempdata,templabels = [],[]\n",
    "    if x<9:\n",
    "        #split for training set - loses information about which clip batch comes from \n",
    "        for file in glob.glob(x):\n",
    "            appendSounds(tempdata, templabels, file)\n",
    "    else:\n",
    "        #split for testing set - presumes batches of sound within clip\n",
    "        for file in glob.glob(x):\n",
    "            appendTracks(tempdata, templabels, file)\n",
    "            \n",
    "    c.send(zip(tempdata, templabels))\n",
    "    del tempdata,templabels\n",
    "        \n",
    "ts = time.time()\n",
    "\n",
    "#doing actual multiprocessing extraction\n",
    "if __name__ == '__main__':\n",
    "    threads= []\n",
    "    connections=[0]*10\n",
    "    lock = Lock()\n",
    "    for x in xrange(1,9):\n",
    "        connections[x-1], childPipe=Pipe()\n",
    "        threads.append(Process(target=add, args=(\"fold\"+str(x)+\"/*.wav\",childPipe)))         \n",
    "        threads[x-1].start()\n",
    "    fold = 1\n",
    "    for x,y in zip(threads,connections):\n",
    "        tD, tL = zip(*y.recv())\n",
    "        if fold <= 6:\n",
    "            trainData += tD\n",
    "            trainLabels += tL\n",
    "        elif fold <= 8 :\n",
    "            tuneData += tD\n",
    "            tuneLabels += tL\n",
    "        else:\n",
    "            testData += tD\n",
    "            testLabels += tL\n",
    "        fold+=1\n",
    "        \n",
    "    #save data into numpy array, change classes label using onehot encoding\n",
    "    trainData, trainLabels = np.array(trainData), np.array(utils.to_categorical(trainLabels, num_classes=10))\n",
    "    tuneData, tuneLabels = np.array(tuneData), np.array(utils.to_categorical(tuneLabels, num_classes=10))\n",
    "    testData, testLabels = np.array(testData), np.array(utils.to_categorical(testLabels, num_classes=10))\n",
    "    \n",
    "    print \"I'm done, time was:\" , time.time()-ts"
   ]
  },
  {
   "cell_type": "code",
   "execution_count": 50,
   "metadata": {
    "collapsed": false,
    "scrolled": true
   },
   "outputs": [
    {
     "name": "stdout",
     "output_type": "stream",
     "text": [
      "7322/7322 [==============================] - 0s\n",
      "23987/23987 [==============================] - 0s     \b\b\b\b\b\b\b\b\b\b\b\b\b\b\b\b\b\b\b\b\b\b\b\b\b\b\b\b\b\b\b\b\b\b\b\b\b\b\b\b\b\b\b\b\b\b\b\b\b\b\b\b\b\b\n",
      "Tune score: 0.294 Train score: 0.351 Learning rate: 0.008000 L2 reg: 0.002070\n"
     ]
    }
   ],
   "source": [
    "from keras.models import Sequential\n",
    "from keras.layers import Dense, Dropout, Activation\n",
    "from keras.optimizers import SGD\n",
    "from keras import regularizers\n",
    "from random import uniform\n",
    "from math import pow\n",
    "rates2 = []\n",
    "\n",
    "#standard NN - was fine tuned for another example, outdated right now\n",
    "\n",
    "LR,L2= 0.008,0.00207\n",
    "net = Sequential()\n",
    "net.add(Dense(512, activation='relu', input_dim=1024,\n",
    "             kernel_regularizer=regularizers.l2(L2)))\n",
    "net.add(Dropout(0.5))\n",
    "net.add(Dense(256, activation='relu',\n",
    "             kernel_regularizer=regularizers.l2(L2)))\n",
    "net.add(Dropout(0.3))\n",
    "net.add(Dense(64, activation='relu',\n",
    "             kernel_regularizer=regularizers.l2(L2)))\n",
    "net.add(Dropout(0.1))\n",
    "net.add(Dense(10, activation='softmax'))\n",
    "net.compile(loss='categorical_crossentropy',\n",
    "           optimizer = SGD(lr=LR,decay=1e-6, momentum=0.9,nesterov=True),\n",
    "           metrics = ['accuracy'])\n",
    "\n",
    "net.fit(trainData, trainLabels, epochs = 100, batch_size=128, verbose=0)\n",
    "rates2.append([net.evaluate(tuneData,tuneLabels, batch_size=16384)[1],\n",
    "             net.evaluate(trainData,trainLabels, batch_size=16384)[1],\n",
    "             LR,L2])\n",
    "print (\"Tune score: %.3f Train score: %.3f Learning rate: %f L2 reg: %f\" %(rates2[-1][0],rates2[-1][1],LR, L2))"
   ]
  },
  {
   "cell_type": "code",
   "execution_count": 17,
   "metadata": {
    "collapsed": false
   },
   "outputs": [
    {
     "name": "stdout",
     "output_type": "stream",
     "text": [
      "(23987, 64, 16, 1) (7322, 64, 16, 1)\n"
     ]
    }
   ],
   "source": [
    "#reshape training and tune set so it fits CNN\n",
    "\n",
    "trainData=np.reshape(trainData,(trainData.shape[0],64,16))\n",
    "tuneData=np.reshape(tuneData,(tuneData.shape[0],64,16))\n",
    "trainData=np.expand_dims(trainData,axis=3)\n",
    "tuneData=np.expand_dims(tuneData,axis=3)\n",
    "print trainData.shape, tuneData.shape"
   ]
  },
  {
   "cell_type": "code",
   "execution_count": 18,
   "metadata": {
    "collapsed": false,
    "scrolled": true
   },
   "outputs": [
    {
     "name": "stdout",
     "output_type": "stream",
     "text": [
      "Epoch 1/40\n",
      "186s - loss: 1.6351 - acc: 0.4361\n",
      "Epoch 2/40\n",
      "184s - loss: 1.0829 - acc: 0.6322\n",
      "Epoch 3/40\n",
      "184s - loss: 0.8629 - acc: 0.7212\n",
      "Epoch 4/40\n",
      "183s - loss: 0.7208 - acc: 0.7657\n",
      "Epoch 5/40\n",
      "184s - loss: 0.6107 - acc: 0.8026\n",
      "Epoch 6/40\n",
      "183s - loss: 0.5485 - acc: 0.8204\n",
      "Epoch 7/40\n",
      "184s - loss: 0.4927 - acc: 0.8395\n",
      "Epoch 8/40\n",
      "184s - loss: 0.4472 - acc: 0.8537\n",
      "Epoch 9/40\n",
      "184s - loss: 0.4161 - acc: 0.8628\n",
      "Epoch 10/40\n",
      "184s - loss: 0.3884 - acc: 0.8709\n",
      "Epoch 11/40\n",
      "184s - loss: 0.3612 - acc: 0.8805\n",
      "Epoch 12/40\n",
      "185s - loss: 0.3384 - acc: 0.8864\n",
      "Epoch 13/40\n",
      "185s - loss: 0.3251 - acc: 0.8928\n",
      "Epoch 14/40\n",
      "185s - loss: 0.3074 - acc: 0.8958\n",
      "Epoch 15/40\n",
      "185s - loss: 0.2874 - acc: 0.9038\n",
      "Epoch 16/40\n",
      "185s - loss: 0.2814 - acc: 0.9044\n",
      "Epoch 17/40\n",
      "186s - loss: 0.2678 - acc: 0.9081\n",
      "Epoch 18/40\n",
      "186s - loss: 0.2518 - acc: 0.9143\n",
      "Epoch 19/40\n",
      "186s - loss: 0.2411 - acc: 0.9197\n",
      "Epoch 20/40\n",
      "185s - loss: 0.2338 - acc: 0.9210\n",
      "Epoch 21/40\n",
      "186s - loss: 0.2225 - acc: 0.9259\n",
      "Epoch 22/40\n",
      "187s - loss: 0.2171 - acc: 0.9269\n",
      "Epoch 23/40\n",
      "188s - loss: 0.2094 - acc: 0.9286\n",
      "Epoch 24/40\n",
      "189s - loss: 0.2028 - acc: 0.9307\n",
      "Epoch 25/40\n",
      "189s - loss: 0.1920 - acc: 0.9339\n",
      "Epoch 26/40\n",
      "188s - loss: 0.1919 - acc: 0.9350\n",
      "Epoch 27/40\n",
      "189s - loss: 0.1846 - acc: 0.9368\n",
      "Epoch 28/40\n",
      "189s - loss: 0.1750 - acc: 0.9391\n",
      "Epoch 29/40\n",
      "189s - loss: 0.1784 - acc: 0.9387\n",
      "Epoch 30/40\n",
      "189s - loss: 0.1654 - acc: 0.9428\n",
      "Epoch 31/40\n",
      "189s - loss: 0.1624 - acc: 0.9438\n",
      "Epoch 32/40\n",
      "189s - loss: 0.1569 - acc: 0.9450\n",
      "Epoch 33/40\n",
      "189s - loss: 0.1512 - acc: 0.9484\n",
      "Epoch 34/40\n",
      "189s - loss: 0.1506 - acc: 0.9470\n",
      "Epoch 35/40\n",
      "189s - loss: 0.1445 - acc: 0.9502\n",
      "Epoch 36/40\n",
      "190s - loss: 0.1402 - acc: 0.9510\n",
      "Epoch 37/40\n",
      "193s - loss: 0.1369 - acc: 0.9525\n",
      "Epoch 38/40\n",
      "193s - loss: 0.1324 - acc: 0.9550\n",
      "Epoch 39/40\n",
      "193s - loss: 0.1308 - acc: 0.9538\n",
      "Epoch 40/40\n",
      "193s - loss: 0.1225 - acc: 0.9572\n"
     ]
    },
    {
     "data": {
      "text/plain": [
       "<keras.callbacks.History at 0x7f285fbcca90>"
      ]
     },
     "execution_count": 18,
     "metadata": {},
     "output_type": "execute_result"
    }
   ],
   "source": [
    "from keras.models import Sequential\n",
    "from keras.layers import Dense, Dropout, Flatten\n",
    "from keras.layers import Conv2D, MaxPooling2D,ZeroPadding2D,BatchNormalization\n",
    "from keras.optimizers import SGD\n",
    "\n",
    "#CNN working on batches of image, accuracy up to 72%\n",
    "\n",
    "model = Sequential()\n",
    "model.add(ZeroPadding2D(padding = (1,1), input_shape=(64, 16, 1)))\n",
    "model.add(Conv2D(32, (3, 3), activation='relu'))\n",
    "model.add(BatchNormalization())\n",
    "model.add(ZeroPadding2D(padding = (1,1)))\n",
    "model.add(Conv2D(32, (3, 3), activation='relu'))\n",
    "model.add(BatchNormalization())\n",
    "model.add(MaxPooling2D(pool_size=(2, 2)))\n",
    "model.add(Dropout(0.5))\n",
    "\n",
    "model.add(ZeroPadding2D(padding = (1,1)))\n",
    "model.add(Conv2D(16, (3, 3), activation='relu'))\n",
    "model.add(BatchNormalization())\n",
    "\n",
    "model.add(Flatten())\n",
    "model.add(Dense(256, activation='relu'))\n",
    "model.add(Dropout(0.5))\n",
    "model.add(Dense(10, activation='softmax'))\n",
    "\n",
    "sgd = SGD(lr=0.01, decay=1e-6, momentum=0.9, nesterov=True)\n",
    "model.compile(loss='categorical_crossentropy', optimizer=sgd, metrics = ['accuracy'])\n",
    "\n",
    "model.fit(np.concatenate((trainData,tuneData),axis=0), np.concatenate((trainLabels,tuneLabels),axis=0),\n",
    "          batch_size=512, epochs=40,verbose=2)"
   ]
  },
  {
   "cell_type": "code",
   "execution_count": 43,
   "metadata": {
    "collapsed": false,
    "scrolled": false
   },
   "outputs": [
    {
     "name": "stdout",
     "output_type": "stream",
     "text": [
      "0.705989110708\n"
     ]
    }
   ],
   "source": [
    "#final scoring function. isnt used in training.\n",
    "#CNN predicts classes for all parts of clip and sums probablities, chooses best\n",
    "#scores is confusion matrix\n",
    "scores = np.zeros((10,10))\n",
    "missed = 0\n",
    "for track,label in zip(testData,testLabels):\n",
    "    tempD =[]\n",
    "    iterator = 0\n",
    "    if track.shape[1]<16:\n",
    "        t = track.shape[1]\n",
    "        b = np.zeros((64,16))\n",
    "        b[:, :-16+t]= track\n",
    "        tempD.append(b)\n",
    "    while (iterator+16<=track.shape[1]):\n",
    "        tempD.append(track[:,iterator:iterator+16])\n",
    "        iterator+=16\n",
    "    tempD= np.array(tempD)\n",
    "    tempD = np.expand_dims(tempD, axis=3)\n",
    "    predicted = model.predict(tempD, batch_size=1, verbose=2)\n",
    "    scores[predicted.sum(axis=0).argmax(),label.argmax()]+=1\n",
    "\n",
    "accuracy = scores.trace()/scores.sum()    \n",
    "print accuracy"
   ]
  },
  {
   "cell_type": "code",
   "execution_count": 146,
   "metadata": {
    "collapsed": false,
    "scrolled": true
   },
   "outputs": [
    {
     "name": "stdout",
     "output_type": "stream",
     "text": [
      "[[  80.    0.    1.    5.    2.   10.    1.    3.    3.    1.]\n",
      " [   0.   50.    0.    0.    2.    0.    0.    0.    0.    0.]\n",
      " [  11.    2.  144.   28.   10.   24.    0.    1.   24.   16.]\n",
      " [   6.    2.   36.  144.    4.    2.   24.    0.   11.    1.]\n",
      " [  51.    1.    2.    6.  139.    0.    1.   67.    1.    2.]\n",
      " [   1.    0.    8.    6.    0.  125.    0.    3.    4.    0.]\n",
      " [   0.    0.    1.    0.    1.    0.   36.    0.    0.    0.]\n",
      " [  24.    1.    1.    2.   33.   11.    0.  104.    0.    0.]\n",
      " [   4.    0.    4.    3.    4.    0.    0.    0.  120.    2.]\n",
      " [  23.    9.    3.    6.    5.   10.    1.    0.    2.  178.]]\n"
     ]
    },
    {
     "data": {
      "text/plain": [
       "<matplotlib.colorbar.Colorbar at 0x7f380607a610>"
      ]
     },
     "execution_count": 146,
     "metadata": {},
     "output_type": "execute_result"
    },
    {
     "data": {
      "image/png": "[encoded data removed]",
      "text/plain": [
       "<matplotlib.figure.Figure at 0x7f376ffeee90>"
      ]
     },
     "metadata": {},
     "output_type": "display_data"
    }
   ],
   "source": [
    "from sklearn.preprocessing import normalize\n",
    "\n",
    "#prints scores and graphic version\n",
    "print scores\n",
    "normscores =normalize(scores,norm='l1' ,axis=0)\n",
    "plt.imshow(normscores)\n",
    "plt.colorbar()"
   ]
  },
  {
   "cell_type": "markdown",
   "metadata": {},
   "source": [
    "Some charts used in finetuning of previous NN"
   ]
  },
  {
   "cell_type": "code",
   "execution_count": 43,
   "metadata": {
    "collapsed": false,
    "scrolled": true
   },
   "outputs": [
    {
     "data": {
      "image/png": "[encoded data removed]",
      "text/plain": [
       "<matplotlib.figure.Figure at 0x7f3599b7eed0>"
      ]
     },
     "metadata": {},
     "output_type": "display_data"
    }
   ],
   "source": [
    "plt.plot(rates[:,2],rates[:,0],'ro')\n",
    "plt.axis([0.001,0.01,0.35,0.5])\n",
    "plt.show()\n",
    "#128 batch - f(learning_Rate)=score"
   ]
  },
  {
   "cell_type": "code",
   "execution_count": 50,
   "metadata": {
    "collapsed": false
   },
   "outputs": [
    {
     "data": {
      "image/png": "[encoded data removed]",
      "text/plain": [
       "<matplotlib.figure.Figure at 0x7f352f5d63d0>"
      ]
     },
     "metadata": {},
     "output_type": "display_data"
    }
   ],
   "source": [
    "plt.plot(rates1[:,3],rates1[:,0],'ro')\n",
    "plt.axis([0.0001,0.01,0.4,0.5])\n",
    "plt.show()\n",
    "#128 batch - f(L2 lambda)=score, lr=0.0038"
   ]
  }
 ],
 "metadata": {
  "kernelspec": {
   "display_name": "Python 2",
   "language": "python",
   "name": "python2"
  },
  "language_info": {
   "codemirror_mode": {
    "name": "ipython",
    "version": 2
   },
   "file_extension": ".py",
   "mimetype": "text/x-python",
   "name": "python",
   "nbconvert_exporter": "python",
   "pygments_lexer": "ipython2",
   "version": "2.7.12"
  }
 },
 "nbformat": 4,
 "nbformat_minor": 2
}
