{
 "cells": [
  {
   "cell_type": "code",
   "execution_count": 99,
   "metadata": {
    "collapsed": true
   },
   "outputs": [],
   "source": [
    "## used for folders/files searching and path finding\n",
    "import glob\n",
    "import os\n",
    "\n",
    "## sound preparation, feature extraction, preprocessing\n",
    "import librosa\n",
    "import librosa.display as disp\n",
    "import soundfile as sf\n",
    "\n",
    "## math and charts\n",
    "import numpy as np\n",
    "import matplotlib.pyplot as plt\n",
    "from matplotlib.pyplot import specgram\n",
    "import math\n",
    "\n",
    "## some time measurement\n",
    "import time\n",
    "\n",
    "## data read/write with hdf5 files\n",
    "import h5py\n",
    "\n",
    "## random lmao\n",
    "from random import shuffle"
   ]
  },
  {
   "cell_type": "markdown",
   "metadata": {
    "collapsed": true
   },
   "source": [
    "TODO:\n",
    "\n",
    "RCNN\n",
    "DELETE SOME CODE\n",
    "ADD VISUALIZATION METHODS"
   ]
  },
  {
   "cell_type": "code",
   "execution_count": 2,
   "metadata": {
    "collapsed": true
   },
   "outputs": [],
   "source": [
    "#hop 10ms, window 40\n",
    "## OUTDATED, LOOK APPENDTRACKS FOR ITS REPLACEMENT\n",
    "## TO BE DELETED\n",
    "def appendSounds(data,labels,fp):\n",
    "    X, sr = sf.read(fp)\n",
    "    sound = np.array(X)\n",
    "    # librosa operates on (lenght, channels) matrices, wheras soundfile gave us (channels, lenght) \n",
    "    # so we transpose\n",
    "    sound = np.transpose(sound)\n",
    "    sound = librosa.core.to_mono(sound)\n",
    "    # resample so every wave has same sampling rate\n",
    "    sound = librosa.core.resample(sound, sr, 10000)\n",
    "    # set class number\n",
    "    classNumber = int(fp.split(\"/\")[1].split(\"-\")[1])\n",
    "    # compute and set mel spectrogram\n",
    "    D = np.abs(librosa.stft(sound, hop_length=506,  win_length=1024))**2\n",
    "    mel = librosa.logamplitude(librosa.feature.melspectrogram(S=D, sr=10000, n_mels = 64),ref_power= np.max)\n",
    "    iterator = 0\n",
    "    while iterator+16<=mel.shape[1]:\n",
    "        data.append(mel[:,iterator:iterator+16].flatten())\n",
    "        labels.append(classNumber)\n",
    "        iterator+=16"
   ]
  },
  {
   "cell_type": "code",
   "execution_count": 100,
   "metadata": {
    "collapsed": true
   },
   "outputs": [],
   "source": [
    "#hop 10ms, window 40\n",
    "def appendTracks(data,labels,paths,fp):\n",
    "    X, sr = sf.read(fp)\n",
    "    sound = np.array(X)\n",
    "    # librosa operates on (lenght, channels) matrices, wheras soundfile gave us (channels, lenght) \n",
    "    # so we transpose\n",
    "    sound = np.transpose(sound)\n",
    "    sound = librosa.core.to_mono(sound)\n",
    "    # resample so every wave has same sampling rate\n",
    "    sound = librosa.core.resample(sound, sr, 10000)\n",
    "    # set class number\n",
    "    classNumber = int(fp.split(\"/\")[1].split(\"-\")[1])\n",
    "    # compute and set mel spectrogram\n",
    "    D = np.abs(librosa.stft(sound, hop_length=506,  win_length=1024))**2\n",
    "    mel = librosa.logamplitude(librosa.feature.melspectrogram(S=D, sr=10000, n_mels = 64),ref_power= np.max)\n",
    "    data.append(mel)\n",
    "    labels.append(classNumber)\n",
    "    paths.append(fp)"
   ]
  },
  {
   "cell_type": "code",
   "execution_count": 122,
   "metadata": {},
   "outputs": [
    {
     "name": "stdout",
     "output_type": "stream",
     "text": [
      "I'm done, time was: 354.149261951\n"
     ]
    }
   ],
   "source": [
    "from multiprocessing import Process, Lock, Pipe,Event\n",
    "\n",
    "## DO NOT USE IF HDF5 FILE HAS BEEN ALREADY CREATED!!!\n",
    "\n",
    "## whole thing is init method which preprocesses data and puts it into hdf5 file\n",
    "## only mel scaled spectrograms and classes of sound clips are preserved\n",
    "\n",
    "\n",
    "data = []\n",
    "\n",
    "## per process method, extracts data from given fold and sends it to main process\n",
    "def add(x,c):\n",
    "    tempdata,templabels,tempPaths = [],[],[]\n",
    "    for file in glob.glob(x):\n",
    "        appendTracks(tempdata, templabels, tempPaths, file)\n",
    "            \n",
    "    c.send(zip(tempdata, templabels,tempPaths))\n",
    "    del tempdata,templabels,tempPaths\n",
    "        \n",
    "\n",
    "ts = time.time()\n",
    "\n",
    "if __name__ == '__main__':\n",
    "    threads= []\n",
    "    connections=[0]*10\n",
    "    \n",
    "    \n",
    "    ## create threads, assign them methods and start \n",
    "    for x in xrange(1,11):\n",
    "        connections[x-1], childPipe=Pipe()\n",
    "        threads.append(Process(target=add, args=(\"fold\"+str(x)+\"/*.wav\",childPipe)))         \n",
    "        threads[x-1].start()\n",
    "    \n",
    "    ## wait for threads to finish, get data\n",
    "    for x,y in zip(threads,connections):\n",
    "        tD, tL, tP = zip(*y.recv())\n",
    "        data.append((tD,tL,tP))\n",
    "\n",
    "\n",
    "    \n",
    "## create hdf5 file and fill it with data\n",
    "## format is wholeTracks/fold[NUMBER]/[trackID] and keeps info about spectrogram, as well as class number\n",
    "## in attributes of dataset\n",
    "\n",
    "with h5py.File(\"wholeTracks.hdf5\") as f:\n",
    "    fold = 1\n",
    "    \n",
    "    for x in data:\n",
    "            \n",
    "        tracks, cls, paths = (x)\n",
    "        for track, cl, path in zip(tracks,cls,paths):\n",
    "                \n",
    "            dset = f.create_dataset(path,data=track)\n",
    "            dset.attrs['class']=cl       \n",
    "\n",
    "    f.close()\n",
    "    \n",
    "print \"I'm done, time was:\" , time.time()-ts\n",
    "\n",
    "##del data"
   ]
  },
  {
   "cell_type": "code",
   "execution_count": 140,
   "metadata": {
    "collapsed": true
   },
   "outputs": [],
   "source": [
    "# splits data to train and test arrays, optional tune.\n",
    "# arrays are given in form of trainData, trainLabels...\n",
    "# method shall be fed with step between windows (equivalent to their width) and lists of folds that shall create \n",
    "# train, (tune), test arrays\n",
    "\n",
    "# train and tune arrays split tracks into windows of widht = spltStep, test array preserves whole track\n",
    "\n",
    "def split (splitStep, *data):\n",
    "    \n",
    "    with h5py.File(\"wholeTracks.hdf5\") as f:\n",
    "        \n",
    "        #no tune set\n",
    "        if len(data) == 2:\n",
    "            trainData, trainLabels, testData, testLabels = [],[],[],[]\n",
    "            \n",
    "            #create train arrays\n",
    "            for fold in data[0]:\n",
    "                grp = f['fold' + str(fold)]\n",
    "                \n",
    "                for track in grp.keys():\n",
    "                    \n",
    "                    tempTrack = grp[track][()]\n",
    "                    classNumber = grp[track].attrs['class']\n",
    "                    \n",
    "                    iterator = 0\n",
    "                    while iterator + splitStep <= tempTrack.shape[1]:\n",
    "                        trainData.append(tempTrack[: ,iterator : iterator + splitStep])\n",
    "                        trainLabels.append(classNumber)\n",
    "                        iterator += splitStep\n",
    "            \n",
    "            #create test arrays         \n",
    "            for fold in data[1]:\n",
    "                grp = f['fold' + str(fold)]\n",
    "                \n",
    "                for track in grp.keys():\n",
    "                    \n",
    "                    testData.append(grp[track][()])\n",
    "                    testLabels.append(grp[track].attrs['class'])\n",
    "                    \n",
    "            return trainData, trainLabels, testData, testLabels\n",
    "                 \n",
    "        # with tune set\n",
    "        elif len(data) == 3:\n",
    "            trainData, trainLabels, tuneData, tuneLabels, testData, testLabels = [],[],[],[],[],[]\n",
    "            \n",
    "            # create train arrays\n",
    "            for fold in data[0]:\n",
    "                grp = f['fold' + str(fold)]\n",
    "                \n",
    "                for track in grp.keys():\n",
    "                    tempTrack = grp[track][()]\n",
    "                    classNumber = grp[track].attrs['class']\n",
    "                    \n",
    "                    iterator = 0\n",
    "                    while iterator + splitStep <= tempTrack.shape[1]:\n",
    "                        trainData.append(tempTrack[: ,iterator : iterator + splitStep])\n",
    "                        trainLabels.append(classNumber)\n",
    "                        iterator += splitStep\n",
    "                        \n",
    "            # create tune arrays\n",
    "            for fold in data[1]:\n",
    "                grp = f['fold' + str(fold)]\n",
    "                \n",
    "                for track in grp.keys():\n",
    "                    \n",
    "                    tempTrack = grp[track][()]\n",
    "                    classNumber = grp[track].attrs['class']\n",
    "                    \n",
    "                    iterator = 0\n",
    "                    while iterator + splitStep <= tempTrack.shape[1]:\n",
    "                        tuneData.append(tempTrack[: ,iterator : iterator + splitStep])\n",
    "                        tuneLabels.append(classNumber)\n",
    "                        iterator += splitStep\n",
    "            \n",
    "            # create test arrays\n",
    "            for fold in data[2]:\n",
    "                grp = f['fold' + str(fold)]\n",
    "                \n",
    "                for track in grp.keys():\n",
    "                    \n",
    "                    testData.append(grp[track][()])\n",
    "                    testLabels.append(grp[track].attrs['class'])\n",
    "            \n",
    "            return trainData, trainLabels, tuneData, tuneLabels, testData, testLabels\n",
    "\n",
    "        else:\n",
    "            raise NameError(\"Wrong number of inputs\")"
   ]
  },
  {
   "cell_type": "code",
   "execution_count": 136,
   "metadata": {
    "collapsed": true
   },
   "outputs": [],
   "source": [
    "## predicts classes on whole database or specified fold from database\n",
    "def predictOnDataBase(model, splitStep, *data):\n",
    "    with h5py.File(\"wholeTracks.hdf5\") as f:\n",
    "        ## prepare list of folds to work on\n",
    "        if len(data) == 0:\n",
    "            grps = []\n",
    "            for grp in f:\n",
    "                grps.append(f[grp])\n",
    "        else:\n",
    "            if type(data[0]) is list:\n",
    "                for fold in data[0]:\n",
    "                    grps.append(f['fold' + str(fold)])\n",
    "            else:\n",
    "                for fold in data:\n",
    "                    grps.append(f['fold' + str(fold)])\n",
    "        \n",
    "        ## assign scores to every file in fold        \n",
    "        for grp in grps:\n",
    "            for clip in grp.keys():\n",
    "                clip = grp[clip]\n",
    "                if 'predictions' in clip.attrs:\n",
    "                    del clip.attrs['predictions']\n",
    "                \n",
    "                temp = clip[()]\n",
    "                trackToPredict = []\n",
    "                iterator = 0\n",
    "                    \n",
    "                ## if clip is too short to predict even 1 window, expand it\n",
    "                if temp.shape[1]<16:\n",
    "                    t = temp.shape[1]\n",
    "                    b = np.zeros((64,16))\n",
    "                    b[:, :-16+t]= temp\n",
    "                    trackToPredict.append(b)\n",
    "                else:\n",
    "                    ## iterate through clip and split it into windows\n",
    "                    while iterator + splitStep <= temp.shape[1]:\n",
    "                        trackToPredict.append(temp[: ,iterator : iterator + splitStep])\n",
    "                        iterator += splitStep\n",
    "                    \n",
    "                ## prepare clip as a corrent CNN input and predict probabilities\n",
    "                trackToPredict= np.array(trackToPredict)\n",
    "                trackToPredict = np.expand_dims(trackToPredict, axis=3)\n",
    "                predicted = model.predict(trackToPredict, batch_size=1, verbose=2)\n",
    "\n",
    "                ## predicted is a matrix of probabilities, where each row has 10 probabilities of being\n",
    "                ## specific class, each row represents one predicted window\n",
    "                \n",
    "                ## to predictions append list of best prediction of class for each window\n",
    "                ## predicted is majority vote over all windows (but voted using probabilities, not classes)\n",
    "                clip.attrs['predictions']=np.argmax(predicted,axis=1)\n",
    "                clip.attrs['predicted']=predicted.sum(axis=0).argmax()\n",
    "        \n",
    "            "
   ]
  },
  {
   "cell_type": "code",
   "execution_count": 137,
   "metadata": {
    "collapsed": true
   },
   "outputs": [],
   "source": [
    "## prints score and accuracy matrix for whole dataset or for given folds\n",
    "def getScores(*data):\n",
    "    scores = np.zeros((10,10))\n",
    "    with h5py.File(\"wholeTracks.hdf5\") as f:\n",
    "        grps = []\n",
    "        ## prepare folds to print scores for\n",
    "        if not data:\n",
    "            for grp in f:\n",
    "                grps.append(f[grp])\n",
    "        else:\n",
    "            if type(data[0]) is list:\n",
    "                for fold in data[0]:\n",
    "                    grps.append(f['fold' + str(fold)])\n",
    "            else:\n",
    "                for fold in data:\n",
    "                    grps.append(f['fold' + str(fold)])\n",
    "\n",
    "        for grp in grps:\n",
    "            for clip in grp.keys():\n",
    "                clip = grp[clip]\n",
    "\n",
    "                scores[clip.attrs['predicted'],clip.attrs['class']] += 1\n",
    "                \n",
    "                \n",
    "            \n",
    "    ## returns confusion matrix (where rows are predicted classes and columns are actuall classes)\n",
    "    ## as well as accuracy \n",
    "    return scores, scores.trace()/scores.sum()\n",
    "                    \n",
    "        "
   ]
  },
  {
   "cell_type": "code",
   "execution_count": 189,
   "metadata": {},
   "outputs": [],
   "source": [
    "## look for clips searching for class or/and prediction\n",
    "def findClips( actual = None, predicted = None, folds = None):\n",
    "    if actual == None and predicted == None:\n",
    "        print \"Specify actual or predicted classes to search for\"\n",
    "        return None\n",
    "    if actual != None:\n",
    "        if type(actual) is not list:\n",
    "            temp = actual\n",
    "            actual = []\n",
    "            actual.append(temp)\n",
    "        actual = set(actual)\n",
    "    if predicted != None:\n",
    "        if type(predicted) is not list:\n",
    "            temp = predicted\n",
    "            predicted = []\n",
    "            predicted.append(temp)\n",
    "        predicted = set(predicted)\n",
    "        \n",
    "    \n",
    "    \n",
    "    toReturn =[]\n",
    "    grps =[]\n",
    "    \n",
    "    with h5py.File(\"wholeTracks.hdf5\") as f:\n",
    "        if folds == None:\n",
    "            for grp in f:\n",
    "                grps.append(f[grp])\n",
    "        else:\n",
    "            for fold in folds:\n",
    "                grps.append('fold' + str(fold))\n",
    "                    \n",
    "        if actual and predicted:\n",
    "            for fold in grps:\n",
    "                fold = f[fold]\n",
    "                for clip in fold:\n",
    "                    clip = fold[clip]\n",
    "                    if clip.attrs['class'] in actual and clip.attrs['predicted'] in predicted:\n",
    "                        toReturn.append(clip.name)\n",
    "                    \n",
    "        elif actual:\n",
    "            for fold in grps:\n",
    "                fold = f[fold]\n",
    "                for clip in fold:\n",
    "                    clip = fold[clip]\n",
    "                    if clip.attrs['class'] in actual:\n",
    "                        toReturn.append(clip.name)\n",
    "                        \n",
    "        elif predicted:\n",
    "            for fold in grps:\n",
    "                fold = f[fold]\n",
    "                for clip in fold:\n",
    "                    clip = fold[clip]\n",
    "                    if clip.attrs['predicted'] in predicted:\n",
    "                        toReturn.append(clip.name)\n",
    "    \n",
    "    return toReturn\n",
    "\n",
    "                "
   ]
  },
  {
   "cell_type": "code",
   "execution_count": 167,
   "metadata": {
    "scrolled": true
   },
   "outputs": [],
   "source": [
    "## show spectrogram of given file\n",
    "def showClip(fPath):\n",
    "    with h5py.File(\"wholeTracks.hdf5\") as f:\n",
    "        clip = f[fPath]\n",
    "        print fPath\n",
    "        disp.specshow(clip[()])\n",
    "        plt.show()"
   ]
  },
  {
   "cell_type": "code",
   "execution_count": null,
   "metadata": {
    "collapsed": true
   },
   "outputs": [],
   "source": [
    "## OUTDATED - REPLACED BY HDF5\n",
    "## KEPT JUST IN CASE, TO BE DELETED\n",
    "\n",
    "from multiprocessing import Process, Lock, Pipe,Event\n",
    "import time\n",
    "from keras import utils\n",
    "\n",
    "\n",
    "allData,allLabels=[],[]\n",
    "trainData,trainLabels= [],[]\n",
    "tuneData,tuneLabels=[],[]\n",
    "testData,testLabels=[],[]\n",
    "#function to extract data using multiprocessing\n",
    "def add(x,c):\n",
    "    tempdata,templabels = [],[]\n",
    "    if int(x[4])<9:\n",
    "        try:\n",
    "            int(x[5])\n",
    "        except:\n",
    "            #split for training set - loses information about which clip batch comes from \n",
    "            for file in glob.glob(x):\n",
    "                appendSounds(tempdata, templabels, file)\n",
    "        else:\n",
    "            #split for testing set - presumes batches of sound within clip\n",
    "            for file in glob.glob(x):\n",
    "                appendTracks(tempdata, templabels, file)\n",
    "        \n",
    "        \n",
    "    else:\n",
    "        #split for testing set - presumes batches of sound within clip\n",
    "        for file in glob.glob(x):\n",
    "            appendTracks(tempdata, templabels, file)\n",
    "            \n",
    "    c.send(zip(tempdata, templabels))\n",
    "    del tempdata,templabels\n",
    "        \n",
    "ts = time.time()\n",
    "\n",
    "#doing actual multiprocessing extraction\n",
    "if __name__ == '__main__':\n",
    "    threads= []\n",
    "    connections=[0]*10\n",
    "    lock = Lock()\n",
    "    for x in xrange(1,11):\n",
    "        connections[x-1], childPipe=Pipe()\n",
    "        threads.append(Process(target=add, args=(\"fold\"+str(x)+\"/*.wav\",childPipe)))         \n",
    "        threads[x-1].start()\n",
    "    fold = 1\n",
    "    for x,y in zip(threads,connections):\n",
    "        tD, tL = zip(*y.recv())\n",
    "        if fold <= 6:\n",
    "            trainData += tD\n",
    "            trainLabels += tL\n",
    "        elif fold <= 8 :\n",
    "            tuneData += tD\n",
    "            tuneLabels += tL\n",
    "        else:\n",
    "            testData += tD\n",
    "            testLabels += tL\n",
    "        fold+=1\n",
    "        \n",
    "    #save data into numpy array, change classes label using onehot encoding\n",
    "    trainData, trainLabels = np.array(trainData), np.array(utils.to_categorical(trainLabels, num_classes=10))\n",
    "    tuneData, tuneLabels = np.array(tuneData), np.array(utils.to_categorical(tuneLabels, num_classes=10))\n",
    "    #testData, testLabels = np.array(testData), np.array(utils.to_categorical(testLabels, num_classes=10))\n",
    "    \n",
    "    print \"I'm done, time was:\" , time.time()-ts"
   ]
  },
  {
   "cell_type": "code",
   "execution_count": 50,
   "metadata": {
    "scrolled": true
   },
   "outputs": [
    {
     "name": "stdout",
     "output_type": "stream",
     "text": [
      "7322/7322 [==============================] - 0s\n",
      "23987/23987 [==============================] - 0s     \b\b\b\b\b\b\b\b\b\b\b\b\b\b\b\b\b\b\b\b\b\b\b\b\b\b\b\b\b\b\b\b\b\b\b\b\b\b\b\b\b\b\b\b\b\b\b\b\b\b\b\b\b\b\n",
      "Tune score: 0.294 Train score: 0.351 Learning rate: 0.008000 L2 reg: 0.002070\n"
     ]
    }
   ],
   "source": [
    "## NO PROPER DATA PREPARATION FOR THIS PART RIGHT NOW, GIVES POOR SCORES ANYWAY\n",
    "## PROCEED TO CNN PART\n",
    "\n",
    "\n",
    "from keras.models import Sequential\n",
    "from keras.layers import Dense, Dropout, Activation\n",
    "from keras.optimizers import SGD\n",
    "from keras import regularizers\n",
    "from random import uniform\n",
    "from math import pow\n",
    "rates2 = []\n",
    "\n",
    "#standard NN - was fine tuned for another example, outdated right now\n",
    "\n",
    "LR,L2= 0.008,0.00207\n",
    "net = Sequential()\n",
    "net.add(Dense(512, activation='relu', input_dim=1024,\n",
    "             kernel_regularizer=regularizers.l2(L2)))\n",
    "net.add(Dropout(0.5))\n",
    "net.add(Dense(256, activation='relu',\n",
    "             kernel_regularizer=regularizers.l2(L2)))\n",
    "net.add(Dropout(0.3))\n",
    "net.add(Dense(64, activation='relu',\n",
    "             kernel_regularizer=regularizers.l2(L2)))\n",
    "net.add(Dropout(0.1))\n",
    "net.add(Dense(10, activation='softmax'))\n",
    "net.compile(loss='categorical_crossentropy',\n",
    "           optimizer = SGD(lr=LR,decay=1e-6, momentum=0.9,nesterov=True),\n",
    "           metrics = ['accuracy'])\n",
    "\n",
    "net.fit(trainData, trainLabels, epochs = 100, batch_size=128, verbose=0)\n",
    "rates2.append([net.evaluate(tuneData,tuneLabels, batch_size=16384)[1],\n",
    "             net.evaluate(trainData,trainLabels, batch_size=16384)[1],\n",
    "             LR,L2])\n",
    "print (\"Tune score: %.3f Train score: %.3f Learning rate: %f L2 reg: %f\" %(rates2[-1][0],rates2[-1][1],LR, L2))"
   ]
  },
  {
   "cell_type": "code",
   "execution_count": 163,
   "metadata": {},
   "outputs": [],
   "source": [
    "## prepare data for CNN training\n",
    "\n",
    "## split folds into train, tune and test sets\n",
    "trainData, trainLabels, tuneData, tuneLabels, testData, testLabels = split(16, [1,2,3,4,5,6,7],[8],[9,10])\n",
    "\n",
    "## lists to np arrays\n",
    "trainData=np.array(trainData)\n",
    "trainLabels=np.array(trainLabels)\n",
    "tuneData=np.array(tuneData)\n",
    "tuneLabels=np.array(tuneLabels)\n",
    "\n",
    "\n",
    "## add 3rd dim - channel required by conv layers\n",
    "trainData=np.expand_dims(trainData,axis=3)\n",
    "tuneData=np.expand_dims(tuneData,axis=3)\n",
    "\n",
    "from keras import utils\n",
    "\n",
    "## classes to vector - one hot encode\n",
    "trainLabels = np.array(utils.to_categorical(trainLabels, num_classes=10))\n",
    "tuneLabels = np.array(utils.to_categorical(tuneLabels, num_classes=10))"
   ]
  },
  {
   "cell_type": "code",
   "execution_count": 164,
   "metadata": {
    "scrolled": false
   },
   "outputs": [],
   "source": [
    "from keras.models import Sequential\n",
    "from keras.layers import Dense, Dropout, Flatten\n",
    "from keras.layers import Conv2D, MaxPooling2D,ZeroPadding2D,BatchNormalization\n",
    "from keras.optimizers import SGD\n",
    "\n",
    "#CNN working on batches of image, accuracy up to 72%\n",
    "\n",
    "model = Sequential()\n",
    "model.add(ZeroPadding2D(padding = (1,1), input_shape=(64, 16, 1)))\n",
    "model.add(Conv2D(32, (3, 3), activation='relu'))\n",
    "model.add(BatchNormalization())\n",
    "model.add(ZeroPadding2D(padding = (1,1)))\n",
    "model.add(Conv2D(32, (3, 3), activation='relu'))\n",
    "model.add(BatchNormalization())\n",
    "model.add(MaxPooling2D(pool_size=(2, 2)))\n",
    "model.add(Dropout(0.5))\n",
    "\n",
    "model.add(ZeroPadding2D(padding = (1,1)))\n",
    "model.add(Conv2D(16, (3, 3), activation='relu'))\n",
    "model.add(BatchNormalization())\n",
    "\n",
    "model.add(Flatten())\n",
    "model.add(Dense(256, activation='relu'))\n",
    "model.add(Dropout(0.5))\n",
    "model.add(Dense(10, activation='softmax'))\n",
    "\n",
    "sgd = SGD(lr=0.01, decay=1e-6, momentum=0.9, nesterov=True)\n",
    "model.compile(loss='categorical_crossentropy', optimizer=sgd, metrics = ['accuracy'])\n",
    "\n",
    "model.fit(trainData, trainLabels, batch_size=512, epochs=100,verbose=0)\n",
    "predictOnDataBase(model,16)"
   ]
  },
  {
   "cell_type": "code",
   "execution_count": 198,
   "metadata": {},
   "outputs": [
    {
     "name": "stdout",
     "output_type": "stream",
     "text": [
      "0.686864579097\n",
      "[[ 126.    0.    2.   10.    2.   15.    1.    8.    3.    0.]\n",
      " [   0.   66.    0.    0.    0.    0.    0.    0.    0.    0.]\n",
      " [  20.    4.  234.   28.    6.    9.    0.    3.   17.   22.]\n",
      " [   1.    0.   25.  223.   17.    1.   21.    0.   16.    6.]\n",
      " [  50.    1.    4.    7.  199.    0.    1.   85.   37.    2.]\n",
      " [   7.    0.    6.    9.    1.  193.    0.    3.    3.    0.]\n",
      " [   0.    0.    2.    0.    4.    0.   69.    1.    0.    0.]\n",
      " [  42.   13.    5.    7.   50.   35.    0.  155.    2.    1.]\n",
      " [   5.    0.    7.    8.    2.    0.    1.    1.  163.    8.]\n",
      " [  49.   11.   15.    8.   19.   17.    0.    0.    4.  261.]]\n",
      "[ 42.  69.  78.  74.  66.  71.  74.  61.  67.  87.]\n"
     ]
    },
    {
     "data": {
      "image/png": "[encoded data removed]",
      "text/plain": [
       "<matplotlib.figure.Figure at 0x7f8d82c4a450>"
      ]
     },
     "metadata": {},
     "output_type": "display_data"
    }
   ],
   "source": [
    "## print scores and graphic version\n",
    "## confusion matrix, x - actual class, y - predicted class\n",
    "from sklearn.preprocessing import normalize\n",
    "scores = getScores(8,9,10)\n",
    "print scores[1]\n",
    "print scores[0]\n",
    "np.set_printoptions(precision=0)\n",
    "print 100*np.diag(scores[0])/scores[0].sum(axis=0)\n",
    "normscores =normalize(scores[0],norm='l1' ,axis=0)\n",
    "plt.imshow(normscores)\n",
    "plt.colorbar()\n",
    "plt.show()\n"
   ]
  },
  {
   "cell_type": "code",
   "execution_count": 191,
   "metadata": {},
   "outputs": [
    {
     "name": "stdout",
     "output_type": "stream",
     "text": [
      "/fold8/4918-3-0-0.wav\n"
     ]
    },
    {
     "data": {
      "image/png": "[encoded data removed]",
      "text/plain": [
       "<matplotlib.figure.Figure at 0x7f8e7cd260d0>"
      ]
     },
     "metadata": {},
     "output_type": "display_data"
    },
    {
     "name": "stdout",
     "output_type": "stream",
     "text": [
      "/fold8/89207-3-0-0.wav\n"
     ]
    },
    {
     "data": {
      "image/png": "[encoded data removed]",
      "text/plain": [
       "<matplotlib.figure.Figure at 0x7f8d82f21490>"
      ]
     },
     "metadata": {},
     "output_type": "display_data"
    },
    {
     "name": "stdout",
     "output_type": "stream",
     "text": [
      "/fold9/52740-3-0-0.wav\n"
     ]
    },
    {
     "data": {
      "image/png": "[encoded data removed]",
      "text/plain": [
       "<matplotlib.figure.Figure at 0x7f8d82eb6750>"
      ]
     },
     "metadata": {},
     "output_type": "display_data"
    },
    {
     "name": "stdout",
     "output_type": "stream",
     "text": [
      "/fold9/52740-3-0-1.wav\n"
     ]
    },
    {
     "data": {
      "image/png": "[encoded data removed]",
      "text/plain": [
       "<matplotlib.figure.Figure at 0x7f8d82dc2ad0>"
      ]
     },
     "metadata": {},
     "output_type": "display_data"
    },
    {
     "name": "stdout",
     "output_type": "stream",
     "text": [
      "/fold9/79584-3-1-2.wav\n"
     ]
    },
    {
     "data": {
      "image/png": "[encoded data removed]",
      "text/plain": [
       "<matplotlib.figure.Figure at 0x7f8d82d40290>"
      ]
     },
     "metadata": {},
     "output_type": "display_data"
    },
    {
     "name": "stdout",
     "output_type": "stream",
     "text": [
      "/fold10/102103-3-1-0.wav\n"
     ]
    },
    {
     "data": {
      "image/png": "[encoded data removed]",
      "text/plain": [
       "<matplotlib.figure.Figure at 0x7f8d82cd5bd0>"
      ]
     },
     "metadata": {},
     "output_type": "display_data"
    },
    {
     "name": "stdout",
     "output_type": "stream",
     "text": [
      "/fold10/142641-3-0-0.wav\n"
     ]
    },
    {
     "data": {
      "image/png": "[encoded data removed]",
      "text/plain": [
       "<matplotlib.figure.Figure at 0x7f8d82c6a250>"
      ]
     },
     "metadata": {},
     "output_type": "display_data"
    }
   ],
   "source": [
    "for x in findClips(actual=3, predicted =4, folds= [8,9,10]):\n",
    "    showClip(x)"
   ]
  },
  {
   "cell_type": "code",
   "execution_count": 6,
   "metadata": {
    "scrolled": false
   },
   "outputs": [
    {
     "name": "stdout",
     "output_type": "stream",
     "text": [
      "0.67332123412\n"
     ]
    }
   ],
   "source": [
    "## AS WELL OUTDATED, SCORES ARE NOW BASED ON PREDICTIONS SAVED IN HDF5 FILE\n",
    "\n",
    "#final scoring function. isnt used in training.\n",
    "#CNN predicts classes for all parts of clip and sums probablities, chooses best\n",
    "#scores is confusion matrix\n",
    "scores = np.zeros((10,10))\n",
    "for track,label in zip(testData,testLabels):\n",
    "    tempD =[]\n",
    "    iterator = 0\n",
    "    ## if track is too short for even one window to predict, fill it up with zeros to one window size\n",
    "    if track.shape[1]<16:\n",
    "        t = track.shape[1]\n",
    "        b = np.zeros((64,16))\n",
    "        b[:, :-16+t]= track\n",
    "        tempD.append(b)\n",
    "    while (iterator+16<=track.shape[1]):\n",
    "        tempD.append(track[:,iterator:iterator+16])\n",
    "        iterator+=16\n",
    "    tempD= np.array(tempD)\n",
    "    tempD = np.expand_dims(tempD, axis=3)\n",
    "    predicted = model.predict(tempD, batch_size=1, verbose=2)\n",
    "    scores[predicted.sum(axis=0).argmax(),label]+=1\n",
    "\n",
    "accuracy = scores.trace()/scores.sum()    \n",
    "print accuracy"
   ]
  },
  {
   "cell_type": "code",
   "execution_count": 99,
   "metadata": {
    "scrolled": true
   },
   "outputs": [
    {
     "name": "stdout",
     "output_type": "stream",
     "text": [
      "[[ 109.    0.    0.    4.    3.   27.    1.   25.    0.    0.]\n",
      " [   3.   63.    0.    0.    0.    0.    0.    0.    0.    0.]\n",
      " [  93.    6.  274.   46.   28.   55.    1.   28.   32.   55.]\n",
      " [  13.    4.   17.  224.   19.    2.   26.    2.   10.    7.]\n",
      " [  19.    1.    1.    5.  196.    0.    1.   67.   10.    0.]\n",
      " [   1.    1.    1.    1.    2.  151.    0.    5.    2.    1.]\n",
      " [  11.    1.    1.    0.    1.    0.   64.    0.    0.    1.]\n",
      " [   6.   12.    1.    3.   32.   17.    0.  126.    0.    0.]\n",
      " [  25.    0.    3.    9.    8.    5.    0.    1.  190.    8.]\n",
      " [  20.    7.    2.    8.   11.   13.    0.    2.    1.  228.]]\n"
     ]
    },
    {
     "data": {
      "image/png": "[encoded data removed]",
      "text/plain": [
       "<matplotlib.figure.Figure at 0x7f217c4d4f10>"
      ]
     },
     "metadata": {},
     "output_type": "display_data"
    }
   ],
   "source": [
    "from sklearn.preprocessing import normalize\n",
    "\n",
    "## print scores and graphic version\n",
    "## confusion matrix, x - actual class, y - predicted class\n",
    "scores = getScores(8,9,10)[0]\n",
    "print scores\n",
    "normscores =normalize(scores,norm='l1' ,axis=0)\n",
    "plt.imshow(normscores)\n",
    "plt.colorbar()\n",
    "plt.show()"
   ]
  },
  {
   "cell_type": "markdown",
   "metadata": {},
   "source": [
    "Some charts used in finetuning of previous NN"
   ]
  },
  {
   "cell_type": "code",
   "execution_count": 43,
   "metadata": {
    "scrolled": true
   },
   "outputs": [
    {
     "data": {
      "image/png": "[encoded data removed]",
      "text/plain": [
       "<matplotlib.figure.Figure at 0x7f3599b7eed0>"
      ]
     },
     "metadata": {},
     "output_type": "display_data"
    }
   ],
   "source": [
    "plt.plot(rates[:,2],rates[:,0],'ro')\n",
    "plt.axis([0.001,0.01,0.35,0.5])\n",
    "plt.show()\n",
    "#128 batch - f(learning_Rate)=score"
   ]
  },
  {
   "cell_type": "code",
   "execution_count": 50,
   "metadata": {},
   "outputs": [
    {
     "data": {
      "image/png": "[encoded data removed]",
      "text/plain": [
       "<matplotlib.figure.Figure at 0x7f352f5d63d0>"
      ]
     },
     "metadata": {},
     "output_type": "display_data"
    }
   ],
   "source": [
    "plt.plot(rates1[:,3],rates1[:,0],'ro')\n",
    "plt.axis([0.0001,0.01,0.4,0.5])\n",
    "plt.show()\n",
    "#128 batch - f(L2 lambda)=score, lr=0.0038"
   ]
  }
 ],
 "metadata": {
  "kernelspec": {
   "display_name": "Python 2",
   "language": "python",
   "name": "python2"
  },
  "language_info": {
   "codemirror_mode": {
    "name": "ipython",
    "version": 2
   },
   "file_extension": ".py",
   "mimetype": "text/x-python",
   "name": "python",
   "nbconvert_exporter": "python",
   "pygments_lexer": "ipython2",
   "version": "2.7.12"
  }
 },
 "nbformat": 4,
 "nbformat_minor": 2
}
