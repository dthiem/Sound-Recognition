{
 "cells": [
  {
   "cell_type": "code",
   "execution_count": 22,
   "metadata": {
    "collapsed": false
   },
   "outputs": [],
   "source": [
    "import glob\n",
    "import os\n",
    "import librosa\n",
    "import numpy as np\n",
    "import matplotlib.pyplot as plt\n",
    "import soundfile as sf\n",
    "from matplotlib.pyplot import specgram\n",
    "import tensorflow as tf\n",
    "import math\n",
    "from random import shuffle\n",
    "%matplotlib inline\n",
    "plt.style.use('ggplot')\n",
    "\n",
    "plt.rcParams['font.family'] = 'serif'\n",
    "plt.rcParams['font.serif'] = 'Ubuntu'\n",
    "plt.rcParams['font.monospace'] = 'Ubuntu Mono'\n",
    "plt.rcParams['font.size'] = 12\n",
    "plt.rcParams['axes.labelsize'] = 11\n",
    "plt.rcParams['axes.labelweight'] = 'bold'\n",
    "plt.rcParams['axes.titlesize'] = 14\n",
    "plt.rcParams['xtick.labelsize'] = 10\n",
    "plt.rcParams['ytick.labelsize'] = 10\n",
    "plt.rcParams['legend.fontsize'] = 11\n",
    "plt.rcParams['figure.titlesize'] = 13"
   ]
  },
  {
   "cell_type": "code",
   "execution_count": 81,
   "metadata": {
    "collapsed": false
   },
   "outputs": [],
   "source": [
    "def appendSounds(arrayToAppend,fp):\n",
    "    X, sr = sf.read(fp)\n",
    "    sound = np.array(X)\n",
    "    # librosa operates on (lenght, channels) matrices, wheras soundfile gave us (channels, lenght) \n",
    "    # so we transpose\n",
    "    sound = np.transpose(sound)\n",
    "    sound = librosa.core.to_mono(sound)\n",
    "    # resample so every wave has same sampling rate\n",
    "    sound = librosa.core.resample(sound, sr, 10000)\n",
    "    # set class number\n",
    "    classNumber = int(fp.split(\"/\")[1].split(\"-\")[1])\n",
    "    # compute and set mel spectrogram\n",
    "    mel = librosa.feature.melspectrogram(sound, sr=10000, hop_length=506)\n",
    "    iterator, sliceSize = 0,10\n",
    "    print mel.shape\n",
    "    while iterator+10<=mel.shape[1]:\n",
    "        arrayToAppend.append(Sound(classNumber,mel[:,iterator:iterator+10]))\n",
    "        iterator+=10"
   ]
  },
  {
   "cell_type": "code",
   "execution_count": 82,
   "metadata": {
    "collapsed": true
   },
   "outputs": [],
   "source": [
    "class Sound:\n",
    "    def __init__(self, classNumber, mel):\n",
    "        self.classNumber=classNumber\n",
    "        self.mel = mel\n",
    "        "
   ]
  },
  {
   "cell_type": "code",
   "execution_count": 83,
   "metadata": {
    "collapsed": false
   },
   "outputs": [
    {
     "name": "stdout",
     "output_type": "stream",
     "text": [
      "(128, 80)\n",
      "4 (128, 10)\n",
      "4 (128, 10)\n",
      "4 (128, 10)\n",
      "4 (128, 10)\n",
      "4 (128, 10)\n",
      "4 (128, 10)\n",
      "4 (128, 10)\n",
      "4 (128, 10)\n"
     ]
    }
   ],
   "source": [
    "ayy = []\n",
    "appendSounds(ayy, \"fold1/14113-4-0-1.wav\")\n",
    "for x in ayy:\n",
    "    print x.classNumber, x.mel.shape"
   ]
  },
  {
   "cell_type": "code",
   "execution_count": 16,
   "metadata": {
    "collapsed": false
   },
   "outputs": [],
   "source": [
    "class NeuralNetwork:\n",
    "    countNetwoks=0\n",
    "    def __init__(self,numin=None,numout=None,hiddenlayers=None,learningrate=None,arrtrain=None,arrtest=None,neural=None):\n",
    "        NeuralNetwork.countNetwoks+=1\n",
    "        self.myId=NeuralNetwork.countNetwoks\n",
    "        if neural!=None:\n",
    "            self.numIn=neural.numIn\n",
    "            self.numOut=neural.numOut\n",
    "            self.hiddenLayers=neural.hiddenLayers[:]\n",
    "            self.learningRate=neural.learningRate\n",
    "            if numin!=None:\n",
    "                self.numIn = numin\n",
    "            if numout!= None:\n",
    "                self.numOut= numout\n",
    "            if hiddenlayers!= None:\n",
    "                self.hiddenLayers=hiddenlayers[:]\n",
    "            if learningrate!= None:\n",
    "                self.learningRate=learningrate\n",
    "        else:\n",
    "            self.numIn=numin\n",
    "            self.numOut=numout\n",
    "            self.hiddenLayers = hiddenlayers\n",
    "            self.learningRate = learningrate\n",
    "    def train(self,arrtrain,arrtest=None):\n",
    "        prepareNet(self.numIn,self.numOut,self.hiddenLayers,self.learningRate,arrtrain,self.myId)\n",
    "        if arrtest!= None:\n",
    "            self.scores = testNet(arrtest, self.myId)\n",
    "            self.mainScore = self.scores.trace()/self.scores.sum()\n",
    "    def test(self,arrtest):\n",
    "            self.scores = testNet(arrtest, self.myId)\n",
    "            self.mainScore = self.scores.trace()/self.scores.sum()        \n",
    "            \n",
    "        "
   ]
  },
  {
   "cell_type": "code",
   "execution_count": 17,
   "metadata": {
    "collapsed": false
   },
   "outputs": [
    {
     "name": "stdout",
     "output_type": "stream",
     "text": [
      "I'm done, time was: 644.549082041\n"
     ]
    }
   ],
   "source": [
    "from multiprocessing import Process, Lock, Pipe,Event\n",
    "import time\n",
    "\n",
    "\n",
    "\n",
    "arrtrain = []\n",
    "arrtuning=[]\n",
    "arrtest=[]\n",
    "def add(x,c):\n",
    "    temp = []\n",
    "    for file in glob.glob(x):\n",
    "        appendSounds(temp,file)\n",
    "    c.send(temp)\n",
    "    del temp\n",
    "        \n",
    "ts = time.time()\n",
    "\n",
    "if __name__ == '__main__':\n",
    "    threads= []\n",
    "    connections=[0]*10\n",
    "    lock = Lock()\n",
    "    for x in xrange(1,11):\n",
    "        connections[x-1],childPipe=Pipe()\n",
    "        threads.append(Process(target=add, args=(\"fold\"+str(x)+\"/*.wav\",childPipe)))         \n",
    "        threads[x-1].start()\n",
    "    fold = 1\n",
    "    for x,y in zip(threads,connections):\n",
    "        if fold < 8:\n",
    "           arrtrain.extend(y.recv())\n",
    "        elif fold == 8 :\n",
    "           arrtuning.extend(y.recv())\n",
    "        else:\n",
    "           arrtest.extend(y.recv())\n",
    "        fold+=1\n",
    "    print \"I'm done, time was:\" , time.time()-ts"
   ]
  },
  {
   "cell_type": "code",
   "execution_count": 98,
   "metadata": {
    "collapsed": false
   },
   "outputs": [],
   "source": [
    "\n",
    "\n",
    "# 2.4 Build inference graph.\n",
    "def mnist_inference(sounds, numin,numout,hiddenLayers):\n",
    "    \"\"\"Build the MNIST model up to where it may be used for inference.\n",
    "    Args:\n",
    "        images: Images placeholder.\n",
    "        hidden1_units: Size of the first hidden layer.\n",
    "        hidden2_units: Size of the second hidden layer.\n",
    "    Returns:\n",
    "        logits: Output tensor with the computed logits.\n",
    "    \"\"\"\n",
    "    hidden=[]\n",
    "    # Hidden 1\n",
    "    with tf.name_scope('hidden1'):\n",
    "        weights = tf.Variable(\n",
    "            tf.truncated_normal([numin, hiddenLayers[0]],\n",
    "                                stddev=1.0 / math.sqrt(float(numin))),\n",
    "            name='weights')\n",
    "        biases = tf.Variable(tf.zeros([hiddenLayers[0]]),\n",
    "                             name='biases')\n",
    "        hidden.append(tf.nn.relu(tf.matmul(sounds, weights) + biases))\n",
    "    \n",
    "    for i in xrange(1,len(hiddenLayers)):\n",
    "        with tf.name_scope('hidden'+str(i+1)):\n",
    "            weights = tf.Variable(\n",
    "                tf.truncated_normal([hiddenLayers[i-1], hiddenLayers[i]],\n",
    "                                    stddev=1.0 / math.sqrt(float(hiddenLayers[i-1]))),\n",
    "                name='weights')\n",
    "            biases = tf.Variable(tf.zeros([hiddenLayers[i]]),\n",
    "                                 name='biases')\n",
    "            hidden.append(tf.nn.relu(tf.matmul(hidden[i-1], weights) + biases))\n",
    "        \n",
    "    # Linear\n",
    "    with tf.name_scope('softmax_linear'):\n",
    "        weights = tf.Variable(\n",
    "            tf.truncated_normal([hiddenLayers[-1], numout],\n",
    "                                stddev=1.0 / math.sqrt(float(hiddenLayers[-1]))),\n",
    "            name='weights')\n",
    "        biases = tf.Variable(tf.zeros([numout]),\n",
    "                             name='biases')\n",
    "        logits = tf.matmul(hidden[-1], weights) + biases\n",
    "\n",
    "    # Uncomment the following line to see what we have constructed.\n",
    "    # tf.train.write_graph(tf.get_default_graph().as_graph_def(),\n",
    "    #                      \"/tmp\", \"inference.pbtxt\", as_text=True)\n",
    "    return logits\n",
    "\n",
    "# 2.5 Build training graph.\n",
    "def mnist_training(logits, labels, learning_rate):\n",
    "    \"\"\"Build the training graph.\n",
    "\n",
    "    Args:\n",
    "        logits: Logits tensor, float - [BATCH_SIZE, NUM_CLASSES].\n",
    "        labels: Labels tensor, int32 - [BATCH_SIZE], with values in the\n",
    "          range [0, NUM_CLASSES).\n",
    "        learning_rate: The learning rate to use for gradient descent.\n",
    "    Returns:\n",
    "        train_op: The Op for training.\n",
    "        loss: The Op for calculating loss.\n",
    "    \"\"\"\n",
    "    # Create an operation that calculates loss.\n",
    "    labels = tf.to_int64(labels)\n",
    "    cross_entropy = tf.nn.sparse_softmax_cross_entropy_with_logits(\n",
    "        logits, labels, name='xentropy')\n",
    "    loss = tf.reduce_mean(cross_entropy, name='xentropy_mean')\n",
    "    # Create the gradient descent optimizer with the given learning rate.\n",
    "    optimizer = tf.train.GradientDescentOptimizer(learning_rate)\n",
    "    # Create a variable to track the global step.\n",
    "    global_step = tf.Variable(0, name='global_step', trainable=False)\n",
    "    # Use the optimizer to apply the gradients that minimize the loss\n",
    "    # (and also increment the global step counter) as a single training step.\n",
    "    train_op = optimizer.minimize(loss, global_step=global_step)\n",
    "\n",
    "    # Uncomment the following line to see what we have constructed.\n",
    "    # tf.train.write_graph(tf.get_default_graph().as_graph_def(),\n",
    "    #                      \"/tmp\", \"train.pbtxt\", as_text=True)\n",
    "\n",
    "    return train_op, loss\n",
    "\n",
    "# 2.6 Build the complete graph for feeding inputs, training, and saving checkpoints.\n",
    "def prepareNet(numin,numout,hiddenLayers, learningRate,trainset,saveId):\n",
    "    mnist_graph = tf.Graph()\n",
    "    with mnist_graph.as_default():\n",
    "        # Generate placeholders for the images and labels.\n",
    "        images_placeholder = tf.placeholder(tf.float32)                                       \n",
    "        labels_placeholder = tf.placeholder(tf.int32)\n",
    "        tf.add_to_collection(\"images\", images_placeholder)  # Remember this Op.\n",
    "        tf.add_to_collection(\"labels\", labels_placeholder)  # Remember this Op.\n",
    "\n",
    "        # Build a Graph that computes predictions from the inference model.\n",
    "        logits = mnist_inference(images_placeholder,numin,numout,hiddenLayers)\n",
    "        tf.add_to_collection(\"logits\", logits)  # Remember this Op.\n",
    "\n",
    "        # Add to the Graph the Ops that calculate and apply gradients.\n",
    "        train_op, loss = mnist_training(logits, labels_placeholder, learningRate)\n",
    "\n",
    "        # Add the variable initializer Op.\n",
    "        init = tf.global_variables_initializer()\n",
    "\n",
    "        # Create a saver for writing training checkpoints.\n",
    "        saver = tf.train.Saver()\n",
    "\n",
    "        # Uncomment the following line to see what we have constructed.\n",
    "        # tf.train.write_graph(tf.get_default_graph().as_graph_def(),\n",
    "        #                      \"/tmp\", \"complete.pbtxt\", as_text=True)\n",
    "    \n",
    "    # 2.7 Run training for MAX_STEPS and save checkpoint at the end.\n",
    "    with tf.Session(graph=mnist_graph) as sess:\n",
    "        # Run the Op to initialize the variables.\n",
    "        sess.run(init)\n",
    "        losses = []\n",
    "        counter=0\n",
    "        # Start the training loop.\n",
    "        for i in xrange (100):\n",
    "            shuffle(trainset)\n",
    "            iterator = 0\n",
    "            # Read a batch of images and labels.\n",
    "            #images_feed, labels_feed = data_sets.train.next_batch(BATCH_SIZE)\n",
    "            print \"Step:\", i+1\n",
    "            while iterator<=len(trainset):\n",
    "                mel_feed, labels_feed = [],[]\n",
    "                for x in trainset[iterator:iterator+16]:\n",
    "                    mel_feed.append(x.mel.flatten())\n",
    "                    labels_feed.append(x.classNumber)\n",
    "                #print np.array(mel_feed).shape, \" \", np.array(labels_feed).shape\n",
    "\n",
    "\n",
    "                # Run one step of the model.  The return values are the activations\n",
    "                # from the `train_op` (which is discarded) and the `loss` Op.  To\n",
    "                # inspect the values of your Ops or variables, you may include them\n",
    "                # in the list passed to sess.run() and the value tensors will be\n",
    "                # returned in the tuple from the call.\n",
    "                if not (len(labels_feed)==0):\n",
    "                    _, loss_value = sess.run([train_op, loss],\n",
    "                                             feed_dict={images_placeholder: np.array(mel_feed),\n",
    "                                                        labels_placeholder: np.array(labels_feed)})\n",
    "                    losses.append(loss_value)\n",
    "                # Print out loss value.\n",
    "                counter +=1\n",
    "                #if counter % 1000 == 0:\n",
    "                    #print('Step %d: loss = %.2f' % (counter, loss_value))\n",
    "                iterator+=16\n",
    "\n",
    "\n",
    "\n",
    "        # Write a checkpoint.\n",
    "        #checkpoint_file = os.path.join(TRAIN_DIR, 'checkpoint')\n",
    "        #saver.save(sess, checkpoint_file, global_step=step)\n",
    "        checkpoint_file = os.path.join(\"/tmp/sound\", 'checkpoint')\n",
    "        saver.save(sess, checkpoint_file,global_step=saveId)\n",
    "        plt.plot(losses)\n",
    "\n",
    "def testNet(testingset,saveId):\n",
    "\n",
    "    with tf.Session(graph=tf.Graph()) as sess:\n",
    "        saver = tf.train.import_meta_graph(\n",
    "            os.path.join(\"/tmp/sound\", \"checkpoint-\"+str(saveId)+\".meta\"))\n",
    "        saver.restore(\n",
    "            sess, os.path.join(\"/tmp/sound\", \"checkpoint-\"+str(saveId)))\n",
    "\n",
    "\n",
    "        # Retrieve the Ops we 'remembered'.\n",
    "        logits = tf.get_collection(\"logits\")[0]\n",
    "        images_placeholder = tf.get_collection(\"images\")[0]\n",
    "        labels_placeholder = tf.get_collection(\"labels\")[0]\n",
    "        # Add an Op that chooses the top k predictions.\n",
    "\n",
    "        eval_op = tf.nn.top_k(logits)\n",
    "\n",
    "        scores = np.zeros((10,10))\n",
    "        for x in testingset:\n",
    "            mel_feed=[x.mel.flatten()]\n",
    "            labels_feed=[x.classNumber]\n",
    "            mel_feed, labels_feed = np.array(mel_feed), np.array(labels_feed)\n",
    "\n",
    "                # Run evaluation.\n",
    "                #images_feed, labels_feed = data_sets.validation.next_batch(EVAL_BATCH_SIZE)\n",
    "            prediction = sess.run(eval_op,\n",
    "                                      feed_dict={images_placeholder: mel_feed,\n",
    "                                                 labels_placeholder: labels_feed})\n",
    "                #print type(labels_feed[0]), type(prediction.indices[0][0])\n",
    "            temp=(prediction.indices[0][0])\n",
    "                #if labels_feed[0] == prediction.indices[0][0]:\n",
    "                #   good+=1\n",
    "                #total +=1\n",
    "            \n",
    "            scores[labels_feed[0],temp]+=1\n",
    "            #if good*2 >= total:\n",
    "             #   print labels_feed, \" : \", good, \"/\", total\n",
    "            #print count\n",
    "        return scores\n",
    "        #counter = 0\n",
    "        #for x in scores:\n",
    "        #    print \"Class %d: %.2f  Quantity: %d\" %(counter, x[counter]/np.sum(x), np.sum(x))\n",
    "        #    counter +=1\n",
    "        #print \"Final score: \", scores.trace()/scores.sum()"
   ]
  },
  {
   "cell_type": "code",
   "execution_count": 27,
   "metadata": {
    "collapsed": false
   },
   "outputs": [],
   "source": [
    "def findLearningRate(neural,learnValues,arrtrain,arrtune):\n",
    "    neuralNets=[]\n",
    "    for x in learnValues:\n",
    "        neuralNets.append(NeuralNetwork(learningrate=x, neural=neural))\n",
    "    for x in neuralNets:\n",
    "        x.train(arrtrain,arrtune)\n",
    "        print \"Learning rate:\", x.learningRate, \"score:\", x.mainScore\n",
    "    bestNet,bestScore=0,0\n",
    "    for i in xrange (len(neuralNets)):\n",
    "        if bestScore<neuralNets[i].mainScore:\n",
    "            bestScore=neuralNets[i].mainScore\n",
    "            bestNet=i\n",
    "    return neuralNets[bestNet]"
   ]
  },
  {
   "cell_type": "code",
   "execution_count": 10,
   "metadata": {
    "collapsed": false,
    "scrolled": true
   },
   "outputs": [
    {
     "name": "stdout",
     "output_type": "stream",
     "text": [
      "Learning rate: 0.0001 score: 0.409836065574\n",
      "Learning rate: 0.0002 score: 0.370744010088\n",
      "Learning rate: 0.0003 score: 0.397225725095\n",
      "Learning rate: 0.0004 score: 0.346784363178\n",
      "Learning rate: 0.0005 score: 0.332912988651\n",
      "Learning rate: 0.0006 score: 0.321563682219\n",
      "Learning rate: 0.0007 score: 0.34552332913\n",
      "Learning rate: 0.001 score: 0.266078184111\n",
      "[[  56.    0.    0.    1.   21.   79.   12.   18.    3.   10.]\n",
      " [   0.    2.    0.    3.    5.   10.    3.    1.   15.   14.]\n",
      " [  14.    0.   93.    1.    9.   10.    1.    6.   55.   11.]\n",
      " [   7.    0.   35.   28.    6.   14.    5.    1.   60.   38.]\n",
      " [  11.    0.   17.    4.   71.   14.   32.   27.   12.   11.]\n",
      " [   8.    0.    0.    0.    2.  160.    0.    2.    9.    1.]\n",
      " [   2.    0.   39.    0.    3.    0.   16.    1.    2.    0.]\n",
      " [   0.    6.   18.    0.  106.   14.    2.   13.   18.    1.]\n",
      " [   3.    0.   64.    1.    6.   11.    0.    7.   69.    4.]\n",
      " [   9.    0.   13.    0.   26.   32.   10.   10.   20.   80.]]\n",
      "0.359853121175\n"
     ]
    }
   ],
   "source": [
    "d= NeuralNetwork(1280,10,[1000,600,170])\n",
    "bestNet=findLearningRate(d,[0.0001,0.0002,0.0003,0.0004,0.0005,0.0006,0.0007,0.001],arrtrain,arrtuning)\n",
    "bestNet.test(arrtest)\n",
    "print bestNet.scores\n",
    "print bestNet.mainScore\n"
   ]
  },
  {
   "cell_type": "code",
   "execution_count": 14,
   "metadata": {
    "collapsed": false
   },
   "outputs": [
    {
     "name": "stdout",
     "output_type": "stream",
     "text": [
      "[[ 219.    0.   55.    0.   61.  223.   22.   84.   29.    7.]\n",
      " [   7.   45.   20.   10.   54.   17.   20.   21.   37.   49.]\n",
      " [  50.    0.  142.   10.   72.   94.   40.   50.  183.   59.]\n",
      " [  20.    0.  173.  122.   22.   22.   14.   14.  165.  117.]\n",
      " [  21.    0.   37.   11.  306.   43.   51.   52.  122.   56.]\n",
      " [  58.    0.   24.   10.   48.  411.   77.   37.   57.    8.]\n",
      " [   7.    0.   81.    0.   13.    4.  149.    1.    7.    3.]\n",
      " [  30.    2.   14.    3.  150.  189.   57.  284.    6.    8.]\n",
      " [  33.    0.   97.    3.   16.   50.   10.   37.  418.   16.]\n",
      " [  30.    0.   30.    4.   80.   91.   39.   46.   62.  318.]]\n",
      "0.391501783977\n"
     ]
    }
   ],
   "source": [
    "bestNet.test(arrtrain)\n",
    "print bestNet.scores\n",
    "print bestNet.mainScore"
   ]
  },
  {
   "cell_type": "code",
   "execution_count": 89,
   "metadata": {
    "collapsed": false,
    "scrolled": true
   },
   "outputs": [
    {
     "name": "stdout",
     "output_type": "stream",
     "text": [
      "Step: 1\n",
      "Step: 2\n",
      "Step: 3\n",
      "Step: 4\n",
      "Step: 5\n",
      "Step: 6\n",
      "Step: 7\n",
      "Step: 8\n",
      "Step: 9\n",
      "Step: 10\n",
      "Step: 11\n",
      "Step: 12\n",
      "Step: 13\n",
      "Step: 14\n",
      "Step: 15\n",
      "Step: 16\n",
      "Step: 17\n",
      "Step: 18\n",
      "Step: 19\n",
      "Step: 20\n",
      "Step: 21\n",
      "Step: 22\n",
      "Step: 23\n",
      "Step: 24\n",
      "Step: 25\n",
      "Step: 26\n",
      "Step: 27\n",
      "Step: 28\n",
      "Step: 29\n",
      "Step: 30\n",
      "Step: 31\n",
      "Step: 32\n",
      "Step: 33\n",
      "Step: 34\n",
      "Step: 35\n",
      "Step: 36\n",
      "Step: 37\n",
      "Step: 38\n",
      "Step: 39\n",
      "Step: 40\n",
      "Step: 41\n",
      "Step: 42\n",
      "Step: 43\n",
      "Step: 44\n",
      "Step: 45\n",
      "Step: 46\n",
      "Step: 47\n",
      "Step: 48\n",
      "Step: 49\n",
      "Step: 50\n",
      "Step: 51\n",
      "Step: 52\n",
      "Step: 53\n",
      "Step: 54\n",
      "Step: 55\n",
      "Step: 56\n",
      "Step: 57\n",
      "Step: 58\n",
      "Step: 59\n",
      "Step: 60\n",
      "Step: 61\n",
      "Step: 62\n",
      "Step: 63\n",
      "Step: 64\n",
      "Step: 65\n",
      "Step: 66\n",
      "Step: 67\n",
      "Step: 68\n",
      "Step: 69\n",
      "Step: 70\n",
      "Step: 71\n",
      "Step: 72\n",
      "Step: 73\n",
      "Step: 74\n",
      "Step: 75\n",
      "Step: 76\n",
      "Step: 77\n",
      "Step: 78\n",
      "Step: 79\n",
      "Step: 80\n",
      "Step: 81\n",
      "Step: 82\n",
      "Step: 83\n",
      "Step: 84\n",
      "Step: 85\n",
      "Step: 86\n",
      "Step: 87\n",
      "Step: 88\n",
      "Step: 89\n",
      "Step: 90\n",
      "Step: 91\n",
      "Step: 92\n",
      "Step: 93\n",
      "Step: 94\n",
      "Step: 95\n",
      "Step: 96\n",
      "Step: 97\n",
      "Step: 98\n",
      "Step: 99\n",
      "Step: 100\n",
      "0.523921436965\n",
      "0.85652698356\n"
     ]
    },
    {
     "data": {
      "image/png": "[encoded data removed]",
      "text/plain": [
       "<matplotlib.figure.Figure at 0x7f6d88c14c90>"
      ]
     },
     "metadata": {},
     "output_type": "display_data"
    }
   ],
   "source": [
    "e = NeuralNetwork(1280,10,[1000,600,170],0.0003)\n",
    "e.train(arrtrain,arrtest)\n",
    "#print e.scores\n",
    "print e.mainScore\n",
    "e.test(arrtrain)\n",
    "print e.mainScore"
   ]
  },
  {
   "cell_type": "code",
   "execution_count": 101,
   "metadata": {
    "collapsed": false
   },
   "outputs": [
    {
     "name": "stdout",
     "output_type": "stream",
     "text": [
      "0.523921436965\n"
     ]
    },
    {
     "data": {
      "text/plain": [
       "<matplotlib.colorbar.Colorbar at 0x7f6d8bb61b10>"
      ]
     },
     "execution_count": 101,
     "metadata": {},
     "output_type": "execute_result"
    },
    {
     "data": {
      "image/png": "[encoded data removed]",
      "text/plain": [
       "<matplotlib.figure.Figure at 0x7f6d892300d0>"
      ]
     },
     "metadata": {},
     "output_type": "display_data"
    }
   ],
   "source": [
    "e.test(arrtest)\n",
    "print e.mainScore\n",
    "from sklearn.preprocessing import normalize\n",
    "normscores =normalize(e.scores)\n",
    "plt.imshow(normscores)\n",
    "plt.colorbar()"
   ]
  },
  {
   "cell_type": "markdown",
   "metadata": {},
   "source": [
    "// OLD VERSION BELOW //\n"
   ]
  },
  {
   "cell_type": "code",
   "execution_count": 4,
   "metadata": {
    "collapsed": false
   },
   "outputs": [],
   "source": [
    "\n",
    "\n",
    "# 2.4 Build inference graph.\n",
    "def mnist_inference(sounds, hidden1_units, hidden2_units, hidden3_units):\n",
    "    \"\"\"Build the MNIST model up to where it may be used for inference.\n",
    "    Args:\n",
    "        images: Images placeholder.\n",
    "        hidden1_units: Size of the first hidden layer.\n",
    "        hidden2_units: Size of the second hidden layer.\n",
    "    Returns:\n",
    "        logits: Output tensor with the computed logits.\n",
    "    \"\"\"\n",
    "    # Hidden 1\n",
    "    with tf.name_scope('hidden1'):\n",
    "        weights = tf.Variable(\n",
    "            tf.truncated_normal([1280, hidden1_units],\n",
    "                                stddev=1.0 / math.sqrt(float(1280))),\n",
    "            name='weights')\n",
    "        biases = tf.Variable(tf.zeros([hidden1_units]),\n",
    "                             name='biases')\n",
    "        hidden1 = tf.nn.relu(tf.matmul(sounds, weights) + biases)\n",
    "    # Hidden 2\n",
    "    with tf.name_scope('hidden2'):\n",
    "        weights = tf.Variable(\n",
    "            tf.truncated_normal([hidden1_units, hidden2_units],\n",
    "                                stddev=1.0 / math.sqrt(float(hidden1_units))),\n",
    "            name='weights')\n",
    "        biases = tf.Variable(tf.zeros([hidden2_units]),\n",
    "                             name='biases')\n",
    "        hidden2 = tf.nn.relu(tf.matmul(hidden1, weights) + biases)\n",
    "        \n",
    "    # Hidden 3\n",
    "    with tf.name_scope('hidden3'):\n",
    "        weights = tf.Variable(\n",
    "            tf.truncated_normal([hidden2_units, hidden3_units],\n",
    "                                stddev=1.0 / math.sqrt(float(hidden2_units))),\n",
    "            name='weights')\n",
    "        biases = tf.Variable(tf.zeros([hidden3_units]),\n",
    "                             name='biases')\n",
    "        hidden3 = tf.nn.relu(tf.matmul(hidden2, weights) + biases)\n",
    "    # Linear\n",
    "    with tf.name_scope('softmax_linear'):\n",
    "        weights = tf.Variable(\n",
    "            tf.truncated_normal([hidden3_units, 10],\n",
    "                                stddev=1.0 / math.sqrt(float(hidden3_units))),\n",
    "            name='weights')\n",
    "        biases = tf.Variable(tf.zeros([10]),\n",
    "                             name='biases')\n",
    "        logits = tf.matmul(hidden3, weights) + biases\n",
    "\n",
    "    # Uncomment the following line to see what we have constructed.\n",
    "    # tf.train.write_graph(tf.get_default_graph().as_graph_def(),\n",
    "    #                      \"/tmp\", \"inference.pbtxt\", as_text=True)\n",
    "    return logits"
   ]
  },
  {
   "cell_type": "code",
   "execution_count": 5,
   "metadata": {
    "collapsed": true
   },
   "outputs": [],
   "source": [
    "# 2.5 Build training graph.\n",
    "def mnist_training(logits, labels, learning_rate):\n",
    "    \"\"\"Build the training graph.\n",
    "\n",
    "    Args:\n",
    "        logits: Logits tensor, float - [BATCH_SIZE, NUM_CLASSES].\n",
    "        labels: Labels tensor, int32 - [BATCH_SIZE], with values in the\n",
    "          range [0, NUM_CLASSES).\n",
    "        learning_rate: The learning rate to use for gradient descent.\n",
    "    Returns:\n",
    "        train_op: The Op for training.\n",
    "        loss: The Op for calculating loss.\n",
    "    \"\"\"\n",
    "    # Create an operation that calculates loss.\n",
    "    labels = tf.to_int64(labels)\n",
    "    cross_entropy = tf.nn.sparse_softmax_cross_entropy_with_logits(\n",
    "        logits, labels, name='xentropy')\n",
    "    loss = tf.reduce_mean(cross_entropy, name='xentropy_mean')\n",
    "    # Create the gradient descent optimizer with the given learning rate.\n",
    "    optimizer = tf.train.GradientDescentOptimizer(learning_rate)\n",
    "    # Create a variable to track the global step.\n",
    "    global_step = tf.Variable(0, name='global_step', trainable=False)\n",
    "    # Use the optimizer to apply the gradients that minimize the loss\n",
    "    # (and also increment the global step counter) as a single training step.\n",
    "    train_op = optimizer.minimize(loss, global_step=global_step)\n",
    "\n",
    "    # Uncomment the following line to see what we have constructed.\n",
    "    # tf.train.write_graph(tf.get_default_graph().as_graph_def(),\n",
    "    #                      \"/tmp\", \"train.pbtxt\", as_text=True)\n",
    "\n",
    "    return train_op, loss"
   ]
  },
  {
   "cell_type": "code",
   "execution_count": 6,
   "metadata": {
    "collapsed": false
   },
   "outputs": [
    {
     "name": "stdout",
     "output_type": "stream",
     "text": [
      "WARNING:tensorflow:From <ipython-input-6-a1665a13dd9a>:21 in <module>.: initialize_all_variables (from tensorflow.python.ops.variables) is deprecated and will be removed after 2017-03-02.\n",
      "Instructions for updating:\n",
      "Use `tf.global_variables_initializer` instead.\n"
     ]
    }
   ],
   "source": [
    "# 2.6 Build the complete graph for feeding inputs, training, and saving checkpoints.\n",
    "mnist_graph = tf.Graph()\n",
    "with mnist_graph.as_default():\n",
    "    # Generate placeholders for the images and labels.\n",
    "    images_placeholder = tf.placeholder(tf.float32)                                       \n",
    "    labels_placeholder = tf.placeholder(tf.int32)\n",
    "    tf.add_to_collection(\"images\", images_placeholder)  # Remember this Op.\n",
    "    tf.add_to_collection(\"labels\", labels_placeholder)  # Remember this Op.\n",
    "\n",
    "    # Build a Graph that computes predictions from the inference model.\n",
    "    logits = mnist_inference(images_placeholder,\n",
    "                             1000,\n",
    "                             600, \n",
    "                             170)\n",
    "    tf.add_to_collection(\"logits\", logits)  # Remember this Op.\n",
    "\n",
    "    # Add to the Graph the Ops that calculate and apply gradients.\n",
    "    train_op, loss = mnist_training(logits, labels_placeholder, 0.0001)\n",
    "\n",
    "    # Add the variable initializer Op.\n",
    "    init = tf.initialize_all_variables()\n",
    "\n",
    "    # Create a saver for writing training checkpoints.\n",
    "    saver = tf.train.Saver()\n",
    "    \n",
    "    # Uncomment the following line to see what we have constructed.\n",
    "    # tf.train.write_graph(tf.get_default_graph().as_graph_def(),\n",
    "    #                      \"/tmp\", \"complete.pbtxt\", as_text=True)"
   ]
  },
  {
   "cell_type": "code",
   "execution_count": 10,
   "metadata": {
    "collapsed": false,
    "scrolled": false
   },
   "outputs": [
    {
     "name": "stdout",
     "output_type": "stream",
     "text": [
      "Step 1000: loss = 2.42\n",
      "Step 2000: loss = 1.88\n",
      "Step 3000: loss = 2.58\n",
      "Step 4000: loss = 3.27\n",
      "Step 5000: loss = 1.86\n",
      "Step 6000: loss = 2.32\n",
      "Step 7000: loss = 1.98\n"
     ]
    },
    {
     "data": {
      "image/png": "[encoded data removed]",
      "text/plain": [
       "<matplotlib.figure.Figure at 0x7faa38a8dc50>"
      ]
     },
     "metadata": {},
     "output_type": "display_data"
    }
   ],
   "source": [
    "# 2.7 Run training for MAX_STEPS and save checkpoint at the end.\n",
    "with tf.Session(graph=mnist_graph) as sess:\n",
    "    # Run the Op to initialize the variables.\n",
    "    sess.run(init)\n",
    "    losses = []\n",
    "    counter=0\n",
    "    # Start the training loop.\n",
    "    for x in arrtest:\n",
    "        # Read a batch of images and labels.\n",
    "        #images_feed, labels_feed = data_sets.train.next_batch(BATCH_SIZE)\n",
    "        mel_feed, labels_feed = [],[]\n",
    "        for z in xrange(x.mel.shape[1]/10):\n",
    "            mel_feed.append(x.mel[:,z*10:(z+1)*10].flatten())\n",
    "            labels_feed.append(x.classNumber)\n",
    "        #print np.array(mel_feed).shape, \" \", np.array(labels_feed).shape\n",
    "        \n",
    "        \n",
    "        # Run one step of the model.  The return values are the activations\n",
    "        # from the `train_op` (which is discarded) and the `loss` Op.  To\n",
    "        # inspect the values of your Ops or variables, you may include them\n",
    "        # in the list passed to sess.run() and the value tensors will be\n",
    "        # returned in the tuple from the call.\n",
    "        if not (len(labels_feed)==0):\n",
    "            _, loss_value = sess.run([train_op, loss],\n",
    "                                     feed_dict={images_placeholder: np.array(mel_feed),\n",
    "                                                labels_placeholder: np.array(labels_feed)})\n",
    "            losses.append(loss_value)\n",
    "        # Print out loss value.\n",
    "        counter +=1\n",
    "        if counter % 1000 == 0:\n",
    "            print('Step %d: loss = %.2f' % (counter, loss_value))\n",
    "                      \n",
    "    \n",
    "            \n",
    "    # Write a checkpoint.\n",
    "    #checkpoint_file = os.path.join(TRAIN_DIR, 'checkpoint')\n",
    "    #saver.save(sess, checkpoint_file, global_step=step)\n",
    "    checkpoint_file = os.path.join(\"/tmp/sound\", 'checkpoint')\n",
    "    saver.save(sess, checkpoint_file, global_step=counter)\n",
    "    plt.plot(losses)"
   ]
  },
  {
   "cell_type": "code",
   "execution_count": 8,
   "metadata": {
    "collapsed": false
   },
   "outputs": [],
   "source": [
    "evaluation = []\n",
    "for file in glob.glob(\"fold9/*.wav\"):\n",
    "    evaluation.append(Sound(file))\n",
    "for file in glob.glob(\"fold10/*.wav\"):\n",
    "    evaluation.append(Sound(file))"
   ]
  },
  {
   "cell_type": "code",
   "execution_count": 11,
   "metadata": {
    "collapsed": false
   },
   "outputs": [
    {
     "name": "stdout",
     "output_type": "stream",
     "text": [
      "[[  16.    0.   89.    5.    2.   43.    9.   25.    0.   11.]\n",
      " [   1.    4.   19.    7.    4.    0.    2.    0.    2.   14.]\n",
      " [   3.    0.  161.    6.    2.    5.    0.    7.    7.    9.]\n",
      " [   1.    0.   71.   75.    9.    4.    1.    0.    9.   24.]\n",
      " [   7.    0.   51.    2.   73.    9.   11.   34.    0.   12.]\n",
      " [   0.    0.   60.    0.    0.  115.    0.    5.    0.    2.]\n",
      " [   3.    0.   45.    0.    2.    0.   12.    0.    0.    1.]\n",
      " [   0.    0.   33.    0.   85.    4.    0.   56.    0.    0.]\n",
      " [   0.    0.  104.    5.    0.    3.    0.    3.   50.    0.]\n",
      " [   0.    0.   67.   12.   10.    6.    3.    6.    3.   93.]]\n",
      "Class 0: 0.08  Quantity: 200\n",
      "Class 1: 0.08  Quantity: 53\n",
      "Class 2: 0.81  Quantity: 200\n",
      "Class 3: 0.39  Quantity: 194\n",
      "Class 4: 0.37  Quantity: 199\n",
      "Class 5: 0.63  Quantity: 182\n",
      "Class 6: 0.19  Quantity: 63\n",
      "Class 7: 0.31  Quantity: 178\n",
      "Class 8: 0.30  Quantity: 165\n",
      "Class 9: 0.47  Quantity: 200\n",
      "Final score:  0.400856793146\n"
     ]
    }
   ],
   "source": [
    "with tf.Session(graph=tf.Graph()) as sess:\n",
    "    saver = tf.train.import_meta_graph(\n",
    "        os.path.join(\"/tmp/sound\", \"checkpoint-7079.meta\"))\n",
    "    saver.restore(\n",
    "        sess, os.path.join(\"/tmp/sound\", \"checkpoint-7079\"))\n",
    "\n",
    "\n",
    "    # Retrieve the Ops we 'remembered'.\n",
    "    logits = tf.get_collection(\"logits\")[0]\n",
    "    images_placeholder = tf.get_collection(\"images\")[0]\n",
    "    labels_placeholder = tf.get_collection(\"labels\")[0]\n",
    "    # Add an Op that chooses the top k predictions.\n",
    "        \n",
    "    eval_op = tf.nn.top_k(logits)\n",
    "    \n",
    "    scores = np.zeros((10,10))\n",
    "    for x in evaluation:\n",
    "        good, total = 0, 0\n",
    "        temp = []\n",
    "        for z in xrange(x.mel.shape[1]/10):\n",
    "            mel_feed, labels_feed = [],[]\n",
    "            mel_feed.append(x.mel[:,z*10:(z+1)*10].flatten())\n",
    "            labels_feed.append(x.classNumber)\n",
    "            mel_feed, labels_feed = np.array(mel_feed), np.array(labels_feed)\n",
    "\n",
    "            # Run evaluation.\n",
    "            #images_feed, labels_feed = data_sets.validation.next_batch(EVAL_BATCH_SIZE)\n",
    "            prediction = sess.run(eval_op,\n",
    "                                  feed_dict={images_placeholder: mel_feed,\n",
    "                                             labels_placeholder: labels_feed})\n",
    "            #print type(labels_feed[0]), type(prediction.indices[0][0])\n",
    "            temp.append(prediction.indices[0][0])\n",
    "            #if labels_feed[0] == prediction.indices[0][0]:\n",
    "            #   good+=1\n",
    "            #total +=1\n",
    "        if temp:\n",
    "            scores[labels_feed[0],max(set(temp), key=temp.count)]+=1\n",
    "        #if good*2 >= total:\n",
    "         #   print labels_feed, \" : \", good, \"/\", total\n",
    "        #print count\n",
    "    print scores\n",
    "    counter = 0\n",
    "    for x in scores:\n",
    "        print \"Class %d: %.2f  Quantity: %d\" %(counter, x[counter]/np.sum(x), np.sum(x))\n",
    "        counter +=1\n",
    "    print \"Final score: \", scores.trace()/scores.sum()"
   ]
  },
  {
   "cell_type": "code",
   "execution_count": 84,
   "metadata": {
    "collapsed": false
   },
   "outputs": [
    {
     "data": {
      "text/plain": [
       "<matplotlib.colorbar.Colorbar at 0x7ff314066450>"
      ]
     },
     "execution_count": 84,
     "metadata": {},
     "output_type": "execute_result"
    },
    {
     "data": {
      "image/png": "[encoded data removed]",
      "text/plain": [
       "<matplotlib.figure.Figure at 0x7ff30b681650>"
      ]
     },
     "metadata": {},
     "output_type": "display_data"
    }
   ],
   "source": [
    "from sklearn.preprocessing import normalize\n",
    "normscores =normalize(scores)\n",
    "plt.imshow(normscores)\n",
    "plt.colorbar()"
   ]
  },
  {
   "cell_type": "code",
   "execution_count": 33,
   "metadata": {
    "collapsed": false
   },
   "outputs": [
    {
     "data": {
      "text/plain": [
       "40000"
      ]
     },
     "execution_count": 33,
     "metadata": {},
     "output_type": "execute_result"
    }
   ],
   "source": []
  }
 ],
 "metadata": {
  "kernelspec": {
   "display_name": "Python 2",
   "language": "python",
   "name": "python2"
  },
  "language_info": {
   "codemirror_mode": {
    "name": "ipython",
    "version": 2
   },
   "file_extension": ".py",
   "mimetype": "text/x-python",
   "name": "python",
   "nbconvert_exporter": "python",
   "pygments_lexer": "ipython2",
   "version": "2.7.12"
  }
 },
 "nbformat": 4,
 "nbformat_minor": 0
}
