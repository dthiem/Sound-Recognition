{
 "cells": [
  {
   "cell_type": "code",
   "execution_count": null,
   "metadata": {
    "collapsed": false
   },
   "outputs": [],
   "source": [
    "import glob\n",
    "import os\n",
    "import librosa\n",
    "import numpy as np\n",
    "import matplotlib.pyplot as plt\n",
    "import soundfile as sf\n",
    "from matplotlib.pyplot import specgram\n",
    "import tensorflow as tf\n",
    "import math\n",
    "from random import shuffle\n",
    "%matplotlib inline\n",
    "plt.style.use('ggplot')\n",
    "\n",
    "plt.rcParams['font.family'] = 'serif'\n",
    "plt.rcParams['font.serif'] = 'Ubuntu'\n",
    "plt.rcParams['font.monospace'] = 'Ubuntu Mono'\n",
    "plt.rcParams['font.size'] = 12\n",
    "plt.rcParams['axes.labelsize'] = 11\n",
    "plt.rcParams['axes.labelweight'] = 'bold'\n",
    "plt.rcParams['axes.titlesize'] = 14\n",
    "plt.rcParams['xtick.labelsize'] = 10\n",
    "plt.rcParams['ytick.labelsize'] = 10\n",
    "plt.rcParams['legend.fontsize'] = 11\n",
    "plt.rcParams['figure.titlesize'] = 13"
   ]
  },
  {
   "cell_type": "code",
   "execution_count": 2,
   "metadata": {
    "collapsed": false
   },
   "outputs": [],
   "source": [
    "def appendSounds(arrayToAppend,fp):\n",
    "    X, sr = sf.read(fp)\n",
    "    sound = np.array(X)\n",
    "    # librosa operates on (lenght, channels) matrices, wheras soundfile gave us (channels, lenght) \n",
    "    # so we transpose\n",
    "    sound = np.transpose(sound)\n",
    "    sound = librosa.core.to_mono(sound)\n",
    "    # resample so every wave has same sampling rate\n",
    "    sound = librosa.core.resample(sound, sr, 10000)\n",
    "    # set class number\n",
    "    classNumber = int(fp.split(\"/\")[1].split(\"-\")[1])\n",
    "    # compute and set mel spectrogram\n",
    "    mel = librosa.feature.melspectrogram(sound, sr=10000, hop_length=506, n_mels = 64)\n",
    "    iterator, sliceSize = 0,10\n",
    "    while iterator+10<=mel.shape[1]:\n",
    "        arrayToAppend.append(Sound(classNumber,mel[:,iterator:iterator+10]))\n",
    "        iterator+=10"
   ]
  },
  {
   "cell_type": "code",
   "execution_count": 3,
   "metadata": {
    "collapsed": true
   },
   "outputs": [],
   "source": [
    "class Sound:\n",
    "    def __init__(self, classNumber, mel):\n",
    "        self.classNumber=classNumber\n",
    "        self.mel = mel\n",
    "        "
   ]
  },
  {
   "cell_type": "code",
   "execution_count": 5,
   "metadata": {
    "collapsed": false
   },
   "outputs": [
    {
     "name": "stdout",
     "output_type": "stream",
     "text": [
      "4 (64, 10)\n",
      "4 (64, 10)\n",
      "4 (64, 10)\n",
      "4 (64, 10)\n",
      "4 (64, 10)\n",
      "4 (64, 10)\n",
      "4 (64, 10)\n",
      "4 (64, 10)\n"
     ]
    }
   ],
   "source": [
    "ayy = []\n",
    "appendSounds(ayy, \"fold1/14113-4-0-1.wav\")\n",
    "for x in ayy:\n",
    "    print x.classNumber, x.mel.shape"
   ]
  },
  {
   "cell_type": "code",
   "execution_count": 6,
   "metadata": {
    "collapsed": false
   },
   "outputs": [],
   "source": [
    "class NeuralNetwork:\n",
    "    countNetwoks=0\n",
    "    def __init__(self,numin=None,numout=None,hiddenlayers=None,learningrate=None,arrtrain=None,arrtest=None,neural=None):\n",
    "        NeuralNetwork.countNetwoks+=1\n",
    "        self.myId=NeuralNetwork.countNetwoks\n",
    "        if neural!=None:\n",
    "            self.numIn=neural.numIn\n",
    "            self.numOut=neural.numOut\n",
    "            self.hiddenLayers=neural.hiddenLayers[:]\n",
    "            self.learningRate=neural.learningRate\n",
    "            if numin!=None:\n",
    "                self.numIn = numin\n",
    "            if numout!= None:\n",
    "                self.numOut= numout\n",
    "            if hiddenlayers!= None:\n",
    "                self.hiddenLayers=hiddenlayers[:]\n",
    "            if learningrate!= None:\n",
    "                self.learningRate=learningrate\n",
    "        else:\n",
    "            self.numIn=numin\n",
    "            self.numOut=numout\n",
    "            self.hiddenLayers = hiddenlayers\n",
    "            self.learningRate = learningrate\n",
    "    def train(self,arrtrain,arrtest=None):\n",
    "        prepareNet(self.numIn,self.numOut,self.hiddenLayers,self.learningRate,arrtrain,self.myId)\n",
    "        if arrtest!= None:\n",
    "            self.scores = testNet(arrtest, self.myId)\n",
    "            self.mainScore = self.scores.trace()/self.scores.sum()\n",
    "    def test(self,arrtest):\n",
    "            self.scores = testNet(arrtest, self.myId)\n",
    "            self.mainScore = self.scores.trace()/self.scores.sum()        \n",
    "            \n",
    "        "
   ]
  },
  {
   "cell_type": "code",
   "execution_count": 7,
   "metadata": {
    "collapsed": false
   },
   "outputs": [
    {
     "name": "stdout",
     "output_type": "stream",
     "text": [
      "I'm done, time was: 1747.25513101\n"
     ]
    }
   ],
   "source": [
    "from multiprocessing import Process, Lock, Pipe,Event\n",
    "import time\n",
    "\n",
    "\n",
    "\n",
    "arrtrain = []\n",
    "arrtuning=[]\n",
    "arrtest=[]\n",
    "def add(x,c):\n",
    "    temp = []\n",
    "    for file in glob.glob(x):\n",
    "        appendSounds(temp,file)\n",
    "    c.send(temp)\n",
    "    del temp\n",
    "        \n",
    "ts = time.time()\n",
    "\n",
    "if __name__ == '__main__':\n",
    "    threads= []\n",
    "    connections=[0]*10\n",
    "    lock = Lock()\n",
    "    for x in xrange(1,11):\n",
    "        connections[x-1],childPipe=Pipe()\n",
    "        threads.append(Process(target=add, args=(\"fold\"+str(x)+\"/*.wav\",childPipe)))         \n",
    "        threads[x-1].start()\n",
    "    fold = 1\n",
    "    for x,y in zip(threads,connections):\n",
    "        if fold < 9:\n",
    "           arrtrain.extend(y.recv())\n",
    "        elif fold == 8 :\n",
    "           arrtuning.extend(y.recv())\n",
    "        else:\n",
    "           arrtest.extend(y.recv())\n",
    "        fold+=1\n",
    "    print \"I'm done, time was:\" , time.time()-ts"
   ]
  },
  {
   "cell_type": "code",
   "execution_count": 12,
   "metadata": {
    "collapsed": false
   },
   "outputs": [],
   "source": [
    "\n",
    "\n",
    "# 2.4 Build inference graph.\n",
    "def mnist_inference(sounds, numin,numout,hiddenLayers):\n",
    "    \"\"\"Build the MNIST model up to where it may be used for inference.\n",
    "    Args:\n",
    "        images: Images placeholder.\n",
    "        hidden1_units: Size of the first hidden layer.\n",
    "        hidden2_units: Size of the second hidden layer.\n",
    "    Returns:\n",
    "        logits: Output tensor with the computed logits.\n",
    "    \"\"\"\n",
    "    hidden=[]\n",
    "    # Hidden 1\n",
    "    with tf.name_scope('hidden1'):\n",
    "        weights = tf.Variable(\n",
    "            tf.truncated_normal([numin, hiddenLayers[0]],\n",
    "                                stddev=1.0 / math.sqrt(float(numin))),\n",
    "            name='weights')\n",
    "        biases = tf.Variable(tf.zeros([hiddenLayers[0]]),\n",
    "                             name='biases')\n",
    "        hidden.append(tf.nn.relu(tf.matmul(sounds, weights) + biases))\n",
    "    \n",
    "    for i in xrange(1,len(hiddenLayers)):\n",
    "        with tf.name_scope('hidden'+str(i+1)):\n",
    "            weights = tf.Variable(\n",
    "                tf.truncated_normal([hiddenLayers[i-1], hiddenLayers[i]],\n",
    "                                    stddev=1.0 / math.sqrt(float(hiddenLayers[i-1]))),\n",
    "                name='weights')\n",
    "            biases = tf.Variable(tf.zeros([hiddenLayers[i]]),\n",
    "                                 name='biases')\n",
    "            hidden.append(tf.nn.relu(tf.matmul(hidden[i-1], weights) + biases))\n",
    "        \n",
    "    # Linear\n",
    "    with tf.name_scope('softmax_linear'):\n",
    "        weights = tf.Variable(\n",
    "            tf.truncated_normal([hiddenLayers[-1], numout],\n",
    "                                stddev=1.0 / math.sqrt(float(hiddenLayers[-1]))),\n",
    "            name='weights')\n",
    "        biases = tf.Variable(tf.zeros([numout]),\n",
    "                             name='biases')\n",
    "        logits = tf.matmul(hidden[-1], weights) + biases\n",
    "\n",
    "    # Uncomment the following line to see what we have constructed.\n",
    "    # tf.train.write_graph(tf.get_default_graph().as_graph_def(),\n",
    "    #                      \"/tmp\", \"inference.pbtxt\", as_text=True)\n",
    "    return logits\n",
    "\n",
    "# 2.5 Build training graph.\n",
    "def mnist_training(logits, labels, learning_rate):\n",
    "    \"\"\"Build the training graph.\n",
    "\n",
    "    Args:\n",
    "        logits: Logits tensor, float - [BATCH_SIZE, NUM_CLASSES].\n",
    "        labels: Labels tensor, int32 - [BATCH_SIZE], with values in the\n",
    "          range [0, NUM_CLASSES).\n",
    "        learning_rate: The learning rate to use for gradient descent.\n",
    "    Returns:\n",
    "        train_op: The Op for training.\n",
    "        loss: The Op for calculating loss.\n",
    "    \"\"\"\n",
    "    # Create an operation that calculates loss.\n",
    "    labels = tf.to_int64(labels)\n",
    "    cross_entropy = tf.nn.sparse_softmax_cross_entropy_with_logits(\n",
    "        logits, labels, name='xentropy')\n",
    "    loss = tf.reduce_mean(cross_entropy, name='xentropy_mean')\n",
    "    # Create the gradient descent optimizer with the given learning rate.\n",
    "    optimizer = tf.train.GradientDescentOptimizer(learning_rate)\n",
    "    # Create a variable to track the global step.\n",
    "    global_step = tf.Variable(0, name='global_step', trainable=False)\n",
    "    # Use the optimizer to apply the gradients that minimize the loss\n",
    "    # (and also increment the global step counter) as a single training step.\n",
    "    train_op = optimizer.minimize(loss, global_step=global_step)\n",
    "\n",
    "    # Uncomment the following line to see what we have constructed.\n",
    "    # tf.train.write_graph(tf.get_default_graph().as_graph_def(),\n",
    "    #                      \"/tmp\", \"train.pbtxt\", as_text=True)\n",
    "\n",
    "    return train_op, loss\n",
    "\n",
    "# 2.6 Build the complete graph for feeding inputs, training, and saving checkpoints.\n",
    "def prepareNet(numin,numout,hiddenLayers, learningRate,trainset,saveId):\n",
    "    mnist_graph = tf.Graph()\n",
    "    with mnist_graph.as_default():\n",
    "        # Generate placeholders for the images and labels.\n",
    "        images_placeholder = tf.placeholder(tf.float32)                                       \n",
    "        labels_placeholder = tf.placeholder(tf.int32)\n",
    "        tf.add_to_collection(\"images\", images_placeholder)  # Remember this Op.\n",
    "        tf.add_to_collection(\"labels\", labels_placeholder)  # Remember this Op.\n",
    "\n",
    "        # Build a Graph that computes predictions from the inference model.\n",
    "        logits = mnist_inference(images_placeholder,numin,numout,hiddenLayers)\n",
    "        tf.add_to_collection(\"logits\", logits)  # Remember this Op.\n",
    "\n",
    "        # Add to the Graph the Ops that calculate and apply gradients.\n",
    "        train_op, loss = mnist_training(logits, labels_placeholder, learningRate)\n",
    "\n",
    "        # Add the variable initializer Op.\n",
    "        init = tf.global_variables_initializer()\n",
    "\n",
    "        # Create a saver for writing training checkpoints.\n",
    "        saver = tf.train.Saver()\n",
    "\n",
    "        # Uncomment the following line to see what we have constructed.\n",
    "        # tf.train.write_graph(tf.get_default_graph().as_graph_def(),\n",
    "        #                      \"/tmp\", \"complete.pbtxt\", as_text=True)\n",
    "    \n",
    "    # 2.7 Run training for MAX_STEPS and save checkpoint at the end.\n",
    "    with tf.Session(graph=mnist_graph) as sess:\n",
    "        # Run the Op to initialize the variables.\n",
    "        sess.run(init)\n",
    "        losses = []\n",
    "        counter=0\n",
    "        # Start the training loop.\n",
    "        for i in xrange (10):\n",
    "            shuffle(trainset)\n",
    "            iterator = 0\n",
    "            # Read a batch of images and labels.\n",
    "            #images_feed, labels_feed = data_sets.train.next_batch(BATCH_SIZE)\n",
    "            print \"Step:\", i+1\n",
    "            while iterator<=len(trainset):\n",
    "                mel_feed, labels_feed = [],[]\n",
    "                for x in trainset[iterator:iterator+16]:\n",
    "                    mel_feed.append(x.mel.flatten())\n",
    "                    labels_feed.append(x.classNumber)\n",
    "                #print np.array(mel_feed).shape, \" \", np.array(labels_feed).shape\n",
    "\n",
    "\n",
    "                # Run one step of the model.  The return values are the activations\n",
    "                # from the `train_op` (which is discarded) and the `loss` Op.  To\n",
    "                # inspect the values of your Ops or variables, you may include them\n",
    "                # in the list passed to sess.run() and the value tensors will be\n",
    "                # returned in the tuple from the call.\n",
    "                if not (len(labels_feed)==0):\n",
    "                    _, loss_value = sess.run([train_op, loss],\n",
    "                                             feed_dict={images_placeholder: np.array(mel_feed),\n",
    "                                                        labels_placeholder: np.array(labels_feed)})\n",
    "                    losses.append(loss_value)\n",
    "                # Print out loss value.\n",
    "                counter +=1\n",
    "                #if counter % 1000 == 0:\n",
    "                    #print('Step %d: loss = %.2f' % (counter, loss_value))\n",
    "                iterator+=16\n",
    "\n",
    "\n",
    "\n",
    "        # Write a checkpoint.\n",
    "        #checkpoint_file = os.path.join(TRAIN_DIR, 'checkpoint')\n",
    "        #saver.save(sess, checkpoint_file, global_step=step)\n",
    "        checkpoint_file = os.path.join(\"/tmp/sound\", 'checkpoint')\n",
    "        saver.save(sess, checkpoint_file,global_step=saveId)\n",
    "        plt.plot(losses)\n",
    "\n",
    "def testNet(testingset,saveId):\n",
    "\n",
    "    with tf.Session(graph=tf.Graph()) as sess:\n",
    "        saver = tf.train.import_meta_graph(\n",
    "            os.path.join(\"/tmp/sound\", \"checkpoint-\"+str(saveId)+\".meta\"))\n",
    "        saver.restore(\n",
    "            sess, os.path.join(\"/tmp/sound\", \"checkpoint-\"+str(saveId)))\n",
    "\n",
    "\n",
    "        # Retrieve the Ops we 'remembered'.\n",
    "        logits = tf.get_collection(\"logits\")[0]\n",
    "        images_placeholder = tf.get_collection(\"images\")[0]\n",
    "        labels_placeholder = tf.get_collection(\"labels\")[0]\n",
    "        # Add an Op that chooses the top k predictions.\n",
    "\n",
    "        eval_op = tf.nn.top_k(logits)\n",
    "\n",
    "        scores = np.zeros((10,10))\n",
    "        for x in testingset:\n",
    "            mel_feed=[x.mel.flatten()]\n",
    "            labels_feed=[x.classNumber]\n",
    "            mel_feed, labels_feed = np.array(mel_feed), np.array(labels_feed)\n",
    "\n",
    "                # Run evaluation.\n",
    "                #images_feed, labels_feed = data_sets.validation.next_batch(EVAL_BATCH_SIZE)\n",
    "            prediction = sess.run(eval_op,\n",
    "                                      feed_dict={images_placeholder: mel_feed,\n",
    "                                                 labels_placeholder: labels_feed})\n",
    "                #print type(labels_feed[0]), type(prediction.indices[0][0])\n",
    "            temp=(prediction.indices[0][0])\n",
    "                #if labels_feed[0] == prediction.indices[0][0]:\n",
    "                #   good+=1\n",
    "                #total +=1\n",
    "            \n",
    "            scores[labels_feed[0],temp]+=1\n",
    "            #if good*2 >= total:\n",
    "             #   print labels_feed, \" : \", good, \"/\", total\n",
    "            #print count\n",
    "        return scores\n",
    "        #counter = 0\n",
    "        #for x in scores:\n",
    "        #    print \"Class %d: %.2f  Quantity: %d\" %(counter, x[counter]/np.sum(x), np.sum(x))\n",
    "        #    counter +=1\n",
    "        #print \"Final score: \", scores.trace()/scores.sum()"
   ]
  },
  {
   "cell_type": "code",
   "execution_count": 9,
   "metadata": {
    "collapsed": false
   },
   "outputs": [],
   "source": [
    "def findLearningRate(neural,learnValues,arrtrain,arrtune):\n",
    "    neuralNets=[]\n",
    "    for x in learnValues:\n",
    "        neuralNets.append(NeuralNetwork(learningrate=x, neural=neural))\n",
    "    for x in neuralNets:\n",
    "        x.train(arrtrain,arrtune)\n",
    "        print \"Learning rate:\", x.learningRate, \"score:\", x.mainScore\n",
    "    bestNet,bestScore=0,0\n",
    "    for i in xrange (len(neuralNets)):\n",
    "        if bestScore<neuralNets[i].mainScore:\n",
    "            bestScore=neuralNets[i].mainScore\n",
    "            bestNet=i\n",
    "    return neuralNets[bestNet]"
   ]
  },
  {
   "cell_type": "code",
   "execution_count": null,
   "metadata": {
    "collapsed": false,
    "scrolled": true
   },
   "outputs": [],
   "source": [
    "d= NeuralNetwork(640,10,[500,600,170])\n",
    "bestNet=findLearningRate(d,[0.0001,0.0002,0.0003,0.0004,0.0005,0.0006,0.0007,0.001],arrtrain,arrtuning)\n",
    "bestNet.test(arrtest)\n",
    "print bestNet.scores\n",
    "print bestNet.mainScore\n"
   ]
  },
  {
   "cell_type": "code",
   "execution_count": null,
   "metadata": {
    "collapsed": false
   },
   "outputs": [],
   "source": [
    "bestNet.test(arrtrain)\n",
    "print bestNet.scores\n",
    "print bestNet.mainScore"
   ]
  },
  {
   "cell_type": "code",
   "execution_count": 19,
   "metadata": {
    "collapsed": false,
    "scrolled": true
   },
   "outputs": [
    {
     "name": "stdout",
     "output_type": "stream",
     "text": [
      "Step: 1\n",
      "Step: 2\n",
      "Step: 3\n",
      "Step: 4\n",
      "Step: 5\n",
      "Step: 6\n",
      "Step: 7\n",
      "Step: 8\n",
      "Step: 9\n",
      "Step: 10\n",
      "0.278160147725\n",
      "0.303775902373\n"
     ]
    },
    {
     "data": {
      "image/png": "[encoded data removed]",
      "text/plain": [
       "<matplotlib.figure.Figure at 0x7f55dc26b690>"
      ]
     },
     "metadata": {},
     "output_type": "display_data"
    }
   ],
   "source": [
    "e = NeuralNetwork(640,10,[300,120,30],0.00001)\n",
    "e.train(arrtrain,arrtest)\n",
    "#print e.scores\n",
    "print e.mainScore\n",
    "e.test(arrtrain)\n",
    "print e.mainScore"
   ]
  },
  {
   "cell_type": "code",
   "execution_count": 18,
   "metadata": {
    "collapsed": false
   },
   "outputs": [
    {
     "name": "stdout",
     "output_type": "stream",
     "text": [
      "0.385009232835\n"
     ]
    },
    {
     "data": {
      "text/plain": [
       "<matplotlib.colorbar.Colorbar at 0x7f55ddb6d510>"
      ]
     },
     "execution_count": 18,
     "metadata": {},
     "output_type": "execute_result"
    },
    {
     "data": {
      "image/png": "[encoded data removed]",
      "text/plain": [
       "<matplotlib.figure.Figure at 0x7f55d6ec5090>"
      ]
     },
     "metadata": {},
     "output_type": "display_data"
    }
   ],
   "source": [
    "e.test(arrtest)\n",
    "print e.mainScore\n",
    "from sklearn.preprocessing import normalize\n",
    "normscores =normalize(e.scores)\n",
    "plt.imshow(normscores)\n",
    "plt.colorbar()"
   ]
  },
  {
   "cell_type": "markdown",
   "metadata": {},
   "source": [
    "// OLD VERSION BELOW //\n"
   ]
  },
  {
   "cell_type": "code",
   "execution_count": null,
   "metadata": {
    "collapsed": false
   },
   "outputs": [],
   "source": [
    "\n",
    "\n",
    "# 2.4 Build inference graph.\n",
    "def mnist_inference(sounds, hidden1_units, hidden2_units, hidden3_units):\n",
    "    \"\"\"Build the MNIST model up to where it may be used for inference.\n",
    "    Args:\n",
    "        images: Images placeholder.\n",
    "        hidden1_units: Size of the first hidden layer.\n",
    "        hidden2_units: Size of the second hidden layer.\n",
    "    Returns:\n",
    "        logits: Output tensor with the computed logits.\n",
    "    \"\"\"\n",
    "    # Hidden 1\n",
    "    with tf.name_scope('hidden1'):\n",
    "        weights = tf.Variable(\n",
    "            tf.truncated_normal([1280, hidden1_units],\n",
    "                                stddev=1.0 / math.sqrt(float(1280))),\n",
    "            name='weights')\n",
    "        biases = tf.Variable(tf.zeros([hidden1_units]),\n",
    "                             name='biases')\n",
    "        hidden1 = tf.nn.relu(tf.matmul(sounds, weights) + biases)\n",
    "    # Hidden 2\n",
    "    with tf.name_scope('hidden2'):\n",
    "        weights = tf.Variable(\n",
    "            tf.truncated_normal([hidden1_units, hidden2_units],\n",
    "                                stddev=1.0 / math.sqrt(float(hidden1_units))),\n",
    "            name='weights')\n",
    "        biases = tf.Variable(tf.zeros([hidden2_units]),\n",
    "                             name='biases')\n",
    "        hidden2 = tf.nn.relu(tf.matmul(hidden1, weights) + biases)\n",
    "        \n",
    "    # Hidden 3\n",
    "    with tf.name_scope('hidden3'):\n",
    "        weights = tf.Variable(\n",
    "            tf.truncated_normal([hidden2_units, hidden3_units],\n",
    "                                stddev=1.0 / math.sqrt(float(hidden2_units))),\n",
    "            name='weights')\n",
    "        biases = tf.Variable(tf.zeros([hidden3_units]),\n",
    "                             name='biases')\n",
    "        hidden3 = tf.nn.relu(tf.matmul(hidden2, weights) + biases)\n",
    "    # Linear\n",
    "    with tf.name_scope('softmax_linear'):\n",
    "        weights = tf.Variable(\n",
    "            tf.truncated_normal([hidden3_units, 10],\n",
    "                                stddev=1.0 / math.sqrt(float(hidden3_units))),\n",
    "            name='weights')\n",
    "        biases = tf.Variable(tf.zeros([10]),\n",
    "                             name='biases')\n",
    "        logits = tf.matmul(hidden3, weights) + biases\n",
    "\n",
    "    # Uncomment the following line to see what we have constructed.\n",
    "    # tf.train.write_graph(tf.get_default_graph().as_graph_def(),\n",
    "    #                      \"/tmp\", \"inference.pbtxt\", as_text=True)\n",
    "    return logits"
   ]
  },
  {
   "cell_type": "code",
   "execution_count": null,
   "metadata": {
    "collapsed": true
   },
   "outputs": [],
   "source": [
    "# 2.5 Build training graph.\n",
    "def mnist_training(logits, labels, learning_rate):\n",
    "    \"\"\"Build the training graph.\n",
    "\n",
    "    Args:\n",
    "        logits: Logits tensor, float - [BATCH_SIZE, NUM_CLASSES].\n",
    "        labels: Labels tensor, int32 - [BATCH_SIZE], with values in the\n",
    "          range [0, NUM_CLASSES).\n",
    "        learning_rate: The learning rate to use for gradient descent.\n",
    "    Returns:\n",
    "        train_op: The Op for training.\n",
    "        loss: The Op for calculating loss.\n",
    "    \"\"\"\n",
    "    # Create an operation that calculates loss.\n",
    "    labels = tf.to_int64(labels)\n",
    "    cross_entropy = tf.nn.sparse_softmax_cross_entropy_with_logits(\n",
    "        logits, labels, name='xentropy')\n",
    "    loss = tf.reduce_mean(cross_entropy, name='xentropy_mean')\n",
    "    # Create the gradient descent optimizer with the given learning rate.\n",
    "    optimizer = tf.train.GradientDescentOptimizer(learning_rate)\n",
    "    # Create a variable to track the global step.\n",
    "    global_step = tf.Variable(0, name='global_step', trainable=False)\n",
    "    # Use the optimizer to apply the gradients that minimize the loss\n",
    "    # (and also increment the global step counter) as a single training step.\n",
    "    train_op = optimizer.minimize(loss, global_step=global_step)\n",
    "\n",
    "    # Uncomment the following line to see what we have constructed.\n",
    "    # tf.train.write_graph(tf.get_default_graph().as_graph_def(),\n",
    "    #                      \"/tmp\", \"train.pbtxt\", as_text=True)\n",
    "\n",
    "    return train_op, loss"
   ]
  },
  {
   "cell_type": "code",
   "execution_count": null,
   "metadata": {
    "collapsed": false
   },
   "outputs": [],
   "source": [
    "# 2.6 Build the complete graph for feeding inputs, training, and saving checkpoints.\n",
    "mnist_graph = tf.Graph()\n",
    "with mnist_graph.as_default():\n",
    "    # Generate placeholders for the images and labels.\n",
    "    images_placeholder = tf.placeholder(tf.float32)                                       \n",
    "    labels_placeholder = tf.placeholder(tf.int32)\n",
    "    tf.add_to_collection(\"images\", images_placeholder)  # Remember this Op.\n",
    "    tf.add_to_collection(\"labels\", labels_placeholder)  # Remember this Op.\n",
    "\n",
    "    # Build a Graph that computes predictions from the inference model.\n",
    "    logits = mnist_inference(images_placeholder,\n",
    "                             1000,\n",
    "                             600, \n",
    "                             170)\n",
    "    tf.add_to_collection(\"logits\", logits)  # Remember this Op.\n",
    "\n",
    "    # Add to the Graph the Ops that calculate and apply gradients.\n",
    "    train_op, loss = mnist_training(logits, labels_placeholder, 0.0001)\n",
    "\n",
    "    # Add the variable initializer Op.\n",
    "    init = tf.initialize_all_variables()\n",
    "\n",
    "    # Create a saver for writing training checkpoints.\n",
    "    saver = tf.train.Saver()\n",
    "    \n",
    "    # Uncomment the following line to see what we have constructed.\n",
    "    # tf.train.write_graph(tf.get_default_graph().as_graph_def(),\n",
    "    #                      \"/tmp\", \"complete.pbtxt\", as_text=True)"
   ]
  },
  {
   "cell_type": "code",
   "execution_count": null,
   "metadata": {
    "collapsed": false,
    "scrolled": false
   },
   "outputs": [],
   "source": [
    "# 2.7 Run training for MAX_STEPS and save checkpoint at the end.\n",
    "with tf.Session(graph=mnist_graph) as sess:\n",
    "    # Run the Op to initialize the variables.\n",
    "    sess.run(init)\n",
    "    losses = []\n",
    "    counter=0\n",
    "    # Start the training loop.\n",
    "    for x in arrtest:\n",
    "        # Read a batch of images and labels.\n",
    "        #images_feed, labels_feed = data_sets.train.next_batch(BATCH_SIZE)\n",
    "        mel_feed, labels_feed = [],[]\n",
    "        for z in xrange(x.mel.shape[1]/10):\n",
    "            mel_feed.append(x.mel[:,z*10:(z+1)*10].flatten())\n",
    "            labels_feed.append(x.classNumber)\n",
    "        #print np.array(mel_feed).shape, \" \", np.array(labels_feed).shape\n",
    "        \n",
    "        \n",
    "        # Run one step of the model.  The return values are the activations\n",
    "        # from the `train_op` (which is discarded) and the `loss` Op.  To\n",
    "        # inspect the values of your Ops or variables, you may include them\n",
    "        # in the list passed to sess.run() and the value tensors will be\n",
    "        # returned in the tuple from the call.\n",
    "        if not (len(labels_feed)==0):\n",
    "            _, loss_value = sess.run([train_op, loss],\n",
    "                                     feed_dict={images_placeholder: np.array(mel_feed),\n",
    "                                                labels_placeholder: np.array(labels_feed)})\n",
    "            losses.append(loss_value)\n",
    "        # Print out loss value.\n",
    "        counter +=1\n",
    "        if counter % 1000 == 0:\n",
    "            print('Step %d: loss = %.2f' % (counter, loss_value))\n",
    "                      \n",
    "    \n",
    "            \n",
    "    # Write a checkpoint.\n",
    "    #checkpoint_file = os.path.join(TRAIN_DIR, 'checkpoint')\n",
    "    #saver.save(sess, checkpoint_file, global_step=step)\n",
    "    checkpoint_file = os.path.join(\"/tmp/sound\", 'checkpoint')\n",
    "    saver.save(sess, checkpoint_file, global_step=counter)\n",
    "    plt.plot(losses)"
   ]
  },
  {
   "cell_type": "code",
   "execution_count": null,
   "metadata": {
    "collapsed": false
   },
   "outputs": [],
   "source": [
    "evaluation = []\n",
    "for file in glob.glob(\"fold9/*.wav\"):\n",
    "    evaluation.append(Sound(file))\n",
    "for file in glob.glob(\"fold10/*.wav\"):\n",
    "    evaluation.append(Sound(file))"
   ]
  },
  {
   "cell_type": "code",
   "execution_count": null,
   "metadata": {
    "collapsed": false
   },
   "outputs": [],
   "source": [
    "with tf.Session(graph=tf.Graph()) as sess:\n",
    "    saver = tf.train.import_meta_graph(\n",
    "        os.path.join(\"/tmp/sound\", \"checkpoint-7079.meta\"))\n",
    "    saver.restore(\n",
    "        sess, os.path.join(\"/tmp/sound\", \"checkpoint-7079\"))\n",
    "\n",
    "\n",
    "    # Retrieve the Ops we 'remembered'.\n",
    "    logits = tf.get_collection(\"logits\")[0]\n",
    "    images_placeholder = tf.get_collection(\"images\")[0]\n",
    "    labels_placeholder = tf.get_collection(\"labels\")[0]\n",
    "    # Add an Op that chooses the top k predictions.\n",
    "        \n",
    "    eval_op = tf.nn.top_k(logits)\n",
    "    \n",
    "    scores = np.zeros((10,10))\n",
    "    for x in evaluation:\n",
    "        good, total = 0, 0\n",
    "        temp = []\n",
    "        for z in xrange(x.mel.shape[1]/10):\n",
    "            mel_feed, labels_feed = [],[]\n",
    "            mel_feed.append(x.mel[:,z*10:(z+1)*10].flatten())\n",
    "            labels_feed.append(x.classNumber)\n",
    "            mel_feed, labels_feed = np.array(mel_feed), np.array(labels_feed)\n",
    "\n",
    "            # Run evaluation.\n",
    "            #images_feed, labels_feed = data_sets.validation.next_batch(EVAL_BATCH_SIZE)\n",
    "            prediction = sess.run(eval_op,\n",
    "                                  feed_dict={images_placeholder: mel_feed,\n",
    "                                             labels_placeholder: labels_feed})\n",
    "            #print type(labels_feed[0]), type(prediction.indices[0][0])\n",
    "            temp.append(prediction.indices[0][0])\n",
    "            #if labels_feed[0] == prediction.indices[0][0]:\n",
    "            #   good+=1\n",
    "            #total +=1\n",
    "        if temp:\n",
    "            scores[labels_feed[0],max(set(temp), key=temp.count)]+=1\n",
    "        #if good*2 >= total:\n",
    "         #   print labels_feed, \" : \", good, \"/\", total\n",
    "        #print count\n",
    "    print scores\n",
    "    counter = 0\n",
    "    for x in scores:\n",
    "        print \"Class %d: %.2f  Quantity: %d\" %(counter, x[counter]/np.sum(x), np.sum(x))\n",
    "        counter +=1\n",
    "    print \"Final score: \", scores.trace()/scores.sum()"
   ]
  },
  {
   "cell_type": "code",
   "execution_count": null,
   "metadata": {
    "collapsed": false
   },
   "outputs": [],
   "source": [
    "from sklearn.preprocessing import normalize\n",
    "normscores =normalize(scores)\n",
    "plt.imshow(normscores)\n",
    "plt.colorbar()"
   ]
  },
  {
   "cell_type": "code",
   "execution_count": null,
   "metadata": {
    "collapsed": false
   },
   "outputs": [],
   "source": []
  }
 ],
 "metadata": {
  "kernelspec": {
   "display_name": "Python 2",
   "language": "python",
   "name": "python2"
  },
  "language_info": {
   "codemirror_mode": {
    "name": "ipython",
    "version": 2
   },
   "file_extension": ".py",
   "mimetype": "text/x-python",
   "name": "python",
   "nbconvert_exporter": "python",
   "pygments_lexer": "ipython2",
   "version": "2.7.12"
  }
 },
 "nbformat": 4,
 "nbformat_minor": 0
}
